{
 "cells": [
  {
   "cell_type": "code",
   "execution_count": 4,
   "id": "1a650ead",
   "metadata": {
    "_cell_guid": "b1076dfc-b9ad-4769-8c92-a6c4dae69d19",
    "_uuid": "8f2839f25d086af736a60e9eeb907d3b93b6e0e5",
    "execution": {
     "iopub.execute_input": "2024-02-18T02:38:11.687815Z",
     "iopub.status.busy": "2024-02-18T02:38:11.687451Z",
     "iopub.status.idle": "2024-02-18T02:39:02.264405Z",
     "shell.execute_reply": "2024-02-18T02:39:02.263318Z"
    },
    "papermill": {
     "duration": 50.592761,
     "end_time": "2024-02-18T02:39:02.267123",
     "exception": false,
     "start_time": "2024-02-18T02:38:11.674362",
     "status": "completed"
    },
    "tags": []
   },
   "outputs": [
    {
     "name": "stdout",
     "output_type": "stream",
     "text": [
      "Requirement already satisfied: vaderSentiment in c:\\users\\admin\\anaconda3\\lib\\site-packages (3.3.2)\n",
      "Requirement already satisfied: requests in c:\\users\\admin\\anaconda3\\lib\\site-packages (from vaderSentiment) (2.25.1)\n",
      "Requirement already satisfied: chardet<5,>=3.0.2 in c:\\users\\admin\\anaconda3\\lib\\site-packages (from requests->vaderSentiment) (4.0.0)\n",
      "Requirement already satisfied: idna<3,>=2.5 in c:\\users\\admin\\anaconda3\\lib\\site-packages (from requests->vaderSentiment) (2.10)\n",
      "Requirement already satisfied: certifi>=2017.4.17 in c:\\users\\admin\\anaconda3\\lib\\site-packages (from requests->vaderSentiment) (2020.12.5)\n",
      "Requirement already satisfied: urllib3<1.27,>=1.21.1 in c:\\users\\admin\\anaconda3\\lib\\site-packages (from requests->vaderSentiment) (1.26.4)\n",
      "Requirement already satisfied: textblob in c:\\users\\admin\\anaconda3\\lib\\site-packages (0.18.0.post0)\n",
      "Requirement already satisfied: nltk>=3.8 in c:\\users\\admin\\anaconda3\\lib\\site-packages (from textblob) (3.9.1)\n",
      "Requirement already satisfied: tqdm in c:\\users\\admin\\anaconda3\\lib\\site-packages (from nltk>=3.8->textblob) (4.59.0)\n",
      "Requirement already satisfied: regex>=2021.8.3 in c:\\users\\admin\\anaconda3\\lib\\site-packages (from nltk>=3.8->textblob) (2024.11.6)\n",
      "Requirement already satisfied: joblib in c:\\users\\admin\\anaconda3\\lib\\site-packages (from nltk>=3.8->textblob) (1.0.1)\n",
      "Requirement already satisfied: click in c:\\users\\admin\\anaconda3\\lib\\site-packages (from nltk>=3.8->textblob) (7.1.2)\n",
      "Requirement already satisfied: pivottablejs in c:\\users\\admin\\anaconda3\\lib\\site-packages (0.9.0)\n",
      "Requirement already satisfied: scikit-plot in c:\\users\\admin\\anaconda3\\lib\\site-packages (0.3.7)\n",
      "Requirement already satisfied: scipy>=0.9 in c:\\users\\admin\\anaconda3\\lib\\site-packages (from scikit-plot) (1.10.1)\n",
      "Requirement already satisfied: joblib>=0.10 in c:\\users\\admin\\anaconda3\\lib\\site-packages (from scikit-plot) (1.0.1)\n",
      "Requirement already satisfied: scikit-learn>=0.18 in c:\\users\\admin\\anaconda3\\lib\\site-packages (from scikit-plot) (0.24.1)\n",
      "Requirement already satisfied: matplotlib>=1.4.0 in c:\\users\\admin\\anaconda3\\lib\\site-packages (from scikit-plot) (3.3.4)\n",
      "Requirement already satisfied: numpy>=1.15 in c:\\users\\admin\\anaconda3\\lib\\site-packages (from matplotlib>=1.4.0->scikit-plot) (1.24.3)\n",
      "Requirement already satisfied: cycler>=0.10 in c:\\users\\admin\\anaconda3\\lib\\site-packages (from matplotlib>=1.4.0->scikit-plot) (0.10.0)\n",
      "Requirement already satisfied: pyparsing!=2.0.4,!=2.1.2,!=2.1.6,>=2.0.3 in c:\\users\\admin\\anaconda3\\lib\\site-packages (from matplotlib>=1.4.0->scikit-plot) (2.4.7)\n",
      "Requirement already satisfied: python-dateutil>=2.1 in c:\\users\\admin\\anaconda3\\lib\\site-packages (from matplotlib>=1.4.0->scikit-plot) (2.8.1)\n",
      "Requirement already satisfied: pillow>=6.2.0 in c:\\users\\admin\\anaconda3\\lib\\site-packages (from matplotlib>=1.4.0->scikit-plot) (8.2.0)\n",
      "Requirement already satisfied: kiwisolver>=1.0.1 in c:\\users\\admin\\anaconda3\\lib\\site-packages (from matplotlib>=1.4.0->scikit-plot) (1.3.1)\n",
      "Requirement already satisfied: six in c:\\users\\admin\\anaconda3\\lib\\site-packages (from cycler>=0.10->matplotlib>=1.4.0->scikit-plot) (1.15.0)\n",
      "Requirement already satisfied: threadpoolctl>=2.0.0 in c:\\users\\admin\\anaconda3\\lib\\site-packages (from scikit-learn>=0.18->scikit-plot) (2.1.0)\n"
     ]
    }
   ],
   "source": [
    "!pip install vaderSentiment\n",
    "!pip install textblob\n",
    "!pip install pivottablejs\n",
    "!pip install scikit-plot"
   ]
  },
  {
   "cell_type": "code",
   "execution_count": 5,
   "id": "22980d36",
   "metadata": {
    "execution": {
     "iopub.execute_input": "2024-02-18T02:39:02.294483Z",
     "iopub.status.busy": "2024-02-18T02:39:02.293991Z",
     "iopub.status.idle": "2024-02-18T02:39:21.711519Z",
     "shell.execute_reply": "2024-02-18T02:39:21.710322Z"
    },
    "papermill": {
     "duration": 19.434591,
     "end_time": "2024-02-18T02:39:21.714353",
     "exception": false,
     "start_time": "2024-02-18T02:39:02.279762",
     "status": "completed"
    },
    "tags": []
   },
   "outputs": [],
   "source": [
    "import pandas as pd\n",
    "import numpy as np\n",
    "from textblob import TextBlob\n",
    "import re\n",
    "from vaderSentiment.vaderSentiment import SentimentIntensityAnalyzer\n",
    "from sklearn.model_selection import train_test_split\n",
    "from sklearn.metrics import accuracy_score, classification_report\n",
    "from scikitplot.metrics import plot_confusion_matrix\n",
    "import pickle\n",
    "\n",
    "from sklearn.discriminant_analysis import LinearDiscriminantAnalysis\n",
    "from sklearn.ensemble import RandomForestClassifier\n",
    "from sklearn.model_selection import RandomizedSearchCV\n",
    "import tensorflow as tf\n",
    "from tensorflow import keras\n",
    "from tensorflow.keras import callbacks, layers"
   ]
  },
  {
   "cell_type": "markdown",
   "id": "fa940a0a",
   "metadata": {
    "papermill": {
     "duration": 0.011415,
     "end_time": "2024-02-18T02:39:21.737928",
     "exception": false,
     "start_time": "2024-02-18T02:39:21.726513",
     "status": "completed"
    },
    "tags": []
   },
   "source": [
    "## Data Preprocessing\n",
    "\n",
    "1. Combine the  Dow Jones Industrial Average stock and global news data into a pandas dataframe\n",
    "2. Perform sentiment analysis on the news and add it to the dataframe\n",
    "3. Remove all unnecesarry data from the dataframe"
   ]
  },
  {
   "cell_type": "code",
   "execution_count": 6,
   "id": "34898188",
   "metadata": {
    "execution": {
     "iopub.execute_input": "2024-02-18T02:39:21.766293Z",
     "iopub.status.busy": "2024-02-18T02:39:21.764675Z",
     "iopub.status.idle": "2024-02-18T02:39:22.207771Z",
     "shell.execute_reply": "2024-02-18T02:39:22.206706Z"
    },
    "papermill": {
     "duration": 0.459211,
     "end_time": "2024-02-18T02:39:22.210591",
     "exception": false,
     "start_time": "2024-02-18T02:39:21.751380",
     "status": "completed"
    },
    "tags": []
   },
   "outputs": [],
   "source": [
    "data = pd.read_csv(\"Combined_News_DJIA.csv\")\n",
    "data2 = pd.read_csv(\"upload_DJIA_table.csv\")\n",
    "RedditNews = pd.read_csv(\"RedditNews.csv\")"
   ]
  },
  {
   "cell_type": "code",
   "execution_count": 7,
   "id": "9ac359be",
   "metadata": {
    "execution": {
     "iopub.execute_input": "2024-02-18T02:39:22.237963Z",
     "iopub.status.busy": "2024-02-18T02:39:22.237058Z",
     "iopub.status.idle": "2024-02-18T02:39:22.275153Z",
     "shell.execute_reply": "2024-02-18T02:39:22.274055Z"
    },
    "papermill": {
     "duration": 0.054825,
     "end_time": "2024-02-18T02:39:22.278191",
     "exception": false,
     "start_time": "2024-02-18T02:39:22.223366",
     "status": "completed"
    },
    "tags": []
   },
   "outputs": [
    {
     "data": {
      "text/html": [
       "<div>\n",
       "<style scoped>\n",
       "    .dataframe tbody tr th:only-of-type {\n",
       "        vertical-align: middle;\n",
       "    }\n",
       "\n",
       "    .dataframe tbody tr th {\n",
       "        vertical-align: top;\n",
       "    }\n",
       "\n",
       "    .dataframe thead th {\n",
       "        text-align: right;\n",
       "    }\n",
       "</style>\n",
       "<table border=\"1\" class=\"dataframe\">\n",
       "  <thead>\n",
       "    <tr style=\"text-align: right;\">\n",
       "      <th></th>\n",
       "      <th>Date</th>\n",
       "      <th>Label</th>\n",
       "      <th>Top1</th>\n",
       "      <th>Top2</th>\n",
       "      <th>Top3</th>\n",
       "      <th>Top4</th>\n",
       "      <th>Top5</th>\n",
       "      <th>Top6</th>\n",
       "      <th>Top7</th>\n",
       "      <th>Top8</th>\n",
       "      <th>...</th>\n",
       "      <th>Top16</th>\n",
       "      <th>Top17</th>\n",
       "      <th>Top18</th>\n",
       "      <th>Top19</th>\n",
       "      <th>Top20</th>\n",
       "      <th>Top21</th>\n",
       "      <th>Top22</th>\n",
       "      <th>Top23</th>\n",
       "      <th>Top24</th>\n",
       "      <th>Top25</th>\n",
       "    </tr>\n",
       "  </thead>\n",
       "  <tbody>\n",
       "    <tr>\n",
       "      <th>0</th>\n",
       "      <td>2008-08-08</td>\n",
       "      <td>0</td>\n",
       "      <td>b\"Georgia 'downs two Russian warplanes' as cou...</td>\n",
       "      <td>b'BREAKING: Musharraf to be impeached.'</td>\n",
       "      <td>b'Russia Today: Columns of troops roll into So...</td>\n",
       "      <td>b'Russian tanks are moving towards the capital...</td>\n",
       "      <td>b\"Afghan children raped with 'impunity,' U.N. ...</td>\n",
       "      <td>b'150 Russian tanks have entered South Ossetia...</td>\n",
       "      <td>b\"Breaking: Georgia invades South Ossetia, Rus...</td>\n",
       "      <td>b\"The 'enemy combatent' trials are nothing but...</td>\n",
       "      <td>...</td>\n",
       "      <td>b'Georgia Invades South Ossetia - if Russia ge...</td>\n",
       "      <td>b'Al-Qaeda Faces Islamist Backlash'</td>\n",
       "      <td>b'Condoleezza Rice: \"The US would not act to p...</td>\n",
       "      <td>b'This is a busy day:  The European Union has ...</td>\n",
       "      <td>b\"Georgia will withdraw 1,000 soldiers from Ir...</td>\n",
       "      <td>b'Why the Pentagon Thinks Attacking Iran is a ...</td>\n",
       "      <td>b'Caucasus in crisis: Georgia invades South Os...</td>\n",
       "      <td>b'Indian shoe manufactory  - And again in a se...</td>\n",
       "      <td>b'Visitors Suffering from Mental Illnesses Ban...</td>\n",
       "      <td>b\"No Help for Mexico's Kidnapping Surge\"</td>\n",
       "    </tr>\n",
       "    <tr>\n",
       "      <th>1</th>\n",
       "      <td>2008-08-11</td>\n",
       "      <td>1</td>\n",
       "      <td>b'Why wont America and Nato help us? If they w...</td>\n",
       "      <td>b'Bush puts foot down on Georgian conflict'</td>\n",
       "      <td>b\"Jewish Georgian minister: Thanks to Israeli ...</td>\n",
       "      <td>b'Georgian army flees in disarray as Russians ...</td>\n",
       "      <td>b\"Olympic opening ceremony fireworks 'faked'\"</td>\n",
       "      <td>b'What were the Mossad with fraudulent New Zea...</td>\n",
       "      <td>b'Russia angered by Israeli military sale to G...</td>\n",
       "      <td>b'An American citizen living in S.Ossetia blam...</td>\n",
       "      <td>...</td>\n",
       "      <td>b'Israel and the US behind the Georgian aggres...</td>\n",
       "      <td>b'\"Do not believe TV, neither Russian nor Geor...</td>\n",
       "      <td>b'Riots are still going on in Montreal (Canada...</td>\n",
       "      <td>b'China to overtake US as largest manufacturer'</td>\n",
       "      <td>b'War in South Ossetia [PICS]'</td>\n",
       "      <td>b'Israeli Physicians Group Condemns State Tort...</td>\n",
       "      <td>b' Russia has just beaten the United States ov...</td>\n",
       "      <td>b'Perhaps *the* question about the Georgia - R...</td>\n",
       "      <td>b'Russia is so much better at war'</td>\n",
       "      <td>b\"So this is what it's come to: trading sex fo...</td>\n",
       "    </tr>\n",
       "    <tr>\n",
       "      <th>2</th>\n",
       "      <td>2008-08-12</td>\n",
       "      <td>0</td>\n",
       "      <td>b'Remember that adorable 9-year-old who sang a...</td>\n",
       "      <td>b\"Russia 'ends Georgia operation'\"</td>\n",
       "      <td>b'\"If we had no sexual harassment we would hav...</td>\n",
       "      <td>b\"Al-Qa'eda is losing support in Iraq because ...</td>\n",
       "      <td>b'Ceasefire in Georgia: Putin Outmaneuvers the...</td>\n",
       "      <td>b'Why Microsoft and Intel tried to kill the XO...</td>\n",
       "      <td>b'Stratfor: The Russo-Georgian War and the Bal...</td>\n",
       "      <td>b\"I'm Trying to Get a Sense of This Whole Geor...</td>\n",
       "      <td>...</td>\n",
       "      <td>b'U.S. troops still in Georgia (did you know t...</td>\n",
       "      <td>b'Why Russias response to Georgia was right'</td>\n",
       "      <td>b'Gorbachev accuses U.S. of making a \"serious ...</td>\n",
       "      <td>b'Russia, Georgia, and NATO: Cold War Two'</td>\n",
       "      <td>b'Remember that adorable 62-year-old who led y...</td>\n",
       "      <td>b'War in Georgia: The Israeli connection'</td>\n",
       "      <td>b'All signs point to the US encouraging Georgi...</td>\n",
       "      <td>b'Christopher King argues that the US and NATO...</td>\n",
       "      <td>b'America: The New Mexico?'</td>\n",
       "      <td>b\"BBC NEWS | Asia-Pacific | Extinction 'by man...</td>\n",
       "    </tr>\n",
       "  </tbody>\n",
       "</table>\n",
       "<p>3 rows × 27 columns</p>\n",
       "</div>"
      ],
      "text/plain": [
       "         Date  Label                                               Top1  \\\n",
       "0  2008-08-08      0  b\"Georgia 'downs two Russian warplanes' as cou...   \n",
       "1  2008-08-11      1  b'Why wont America and Nato help us? If they w...   \n",
       "2  2008-08-12      0  b'Remember that adorable 9-year-old who sang a...   \n",
       "\n",
       "                                          Top2  \\\n",
       "0      b'BREAKING: Musharraf to be impeached.'   \n",
       "1  b'Bush puts foot down on Georgian conflict'   \n",
       "2           b\"Russia 'ends Georgia operation'\"   \n",
       "\n",
       "                                                Top3  \\\n",
       "0  b'Russia Today: Columns of troops roll into So...   \n",
       "1  b\"Jewish Georgian minister: Thanks to Israeli ...   \n",
       "2  b'\"If we had no sexual harassment we would hav...   \n",
       "\n",
       "                                                Top4  \\\n",
       "0  b'Russian tanks are moving towards the capital...   \n",
       "1  b'Georgian army flees in disarray as Russians ...   \n",
       "2  b\"Al-Qa'eda is losing support in Iraq because ...   \n",
       "\n",
       "                                                Top5  \\\n",
       "0  b\"Afghan children raped with 'impunity,' U.N. ...   \n",
       "1      b\"Olympic opening ceremony fireworks 'faked'\"   \n",
       "2  b'Ceasefire in Georgia: Putin Outmaneuvers the...   \n",
       "\n",
       "                                                Top6  \\\n",
       "0  b'150 Russian tanks have entered South Ossetia...   \n",
       "1  b'What were the Mossad with fraudulent New Zea...   \n",
       "2  b'Why Microsoft and Intel tried to kill the XO...   \n",
       "\n",
       "                                                Top7  \\\n",
       "0  b\"Breaking: Georgia invades South Ossetia, Rus...   \n",
       "1  b'Russia angered by Israeli military sale to G...   \n",
       "2  b'Stratfor: The Russo-Georgian War and the Bal...   \n",
       "\n",
       "                                                Top8  ...  \\\n",
       "0  b\"The 'enemy combatent' trials are nothing but...  ...   \n",
       "1  b'An American citizen living in S.Ossetia blam...  ...   \n",
       "2  b\"I'm Trying to Get a Sense of This Whole Geor...  ...   \n",
       "\n",
       "                                               Top16  \\\n",
       "0  b'Georgia Invades South Ossetia - if Russia ge...   \n",
       "1  b'Israel and the US behind the Georgian aggres...   \n",
       "2  b'U.S. troops still in Georgia (did you know t...   \n",
       "\n",
       "                                               Top17  \\\n",
       "0                b'Al-Qaeda Faces Islamist Backlash'   \n",
       "1  b'\"Do not believe TV, neither Russian nor Geor...   \n",
       "2       b'Why Russias response to Georgia was right'   \n",
       "\n",
       "                                               Top18  \\\n",
       "0  b'Condoleezza Rice: \"The US would not act to p...   \n",
       "1  b'Riots are still going on in Montreal (Canada...   \n",
       "2  b'Gorbachev accuses U.S. of making a \"serious ...   \n",
       "\n",
       "                                               Top19  \\\n",
       "0  b'This is a busy day:  The European Union has ...   \n",
       "1    b'China to overtake US as largest manufacturer'   \n",
       "2         b'Russia, Georgia, and NATO: Cold War Two'   \n",
       "\n",
       "                                               Top20  \\\n",
       "0  b\"Georgia will withdraw 1,000 soldiers from Ir...   \n",
       "1                     b'War in South Ossetia [PICS]'   \n",
       "2  b'Remember that adorable 62-year-old who led y...   \n",
       "\n",
       "                                               Top21  \\\n",
       "0  b'Why the Pentagon Thinks Attacking Iran is a ...   \n",
       "1  b'Israeli Physicians Group Condemns State Tort...   \n",
       "2          b'War in Georgia: The Israeli connection'   \n",
       "\n",
       "                                               Top22  \\\n",
       "0  b'Caucasus in crisis: Georgia invades South Os...   \n",
       "1  b' Russia has just beaten the United States ov...   \n",
       "2  b'All signs point to the US encouraging Georgi...   \n",
       "\n",
       "                                               Top23  \\\n",
       "0  b'Indian shoe manufactory  - And again in a se...   \n",
       "1  b'Perhaps *the* question about the Georgia - R...   \n",
       "2  b'Christopher King argues that the US and NATO...   \n",
       "\n",
       "                                               Top24  \\\n",
       "0  b'Visitors Suffering from Mental Illnesses Ban...   \n",
       "1                 b'Russia is so much better at war'   \n",
       "2                        b'America: The New Mexico?'   \n",
       "\n",
       "                                               Top25  \n",
       "0           b\"No Help for Mexico's Kidnapping Surge\"  \n",
       "1  b\"So this is what it's come to: trading sex fo...  \n",
       "2  b\"BBC NEWS | Asia-Pacific | Extinction 'by man...  \n",
       "\n",
       "[3 rows x 27 columns]"
      ]
     },
     "execution_count": 7,
     "metadata": {},
     "output_type": "execute_result"
    }
   ],
   "source": [
    "data.head(3)"
   ]
  },
  {
   "cell_type": "code",
   "execution_count": 8,
   "id": "96bca546",
   "metadata": {
    "execution": {
     "iopub.execute_input": "2024-02-18T02:39:22.305960Z",
     "iopub.status.busy": "2024-02-18T02:39:22.305514Z",
     "iopub.status.idle": "2024-02-18T02:39:22.320671Z",
     "shell.execute_reply": "2024-02-18T02:39:22.319644Z"
    },
    "papermill": {
     "duration": 0.03213,
     "end_time": "2024-02-18T02:39:22.323312",
     "exception": false,
     "start_time": "2024-02-18T02:39:22.291182",
     "status": "completed"
    },
    "tags": []
   },
   "outputs": [
    {
     "data": {
      "text/html": [
       "<div>\n",
       "<style scoped>\n",
       "    .dataframe tbody tr th:only-of-type {\n",
       "        vertical-align: middle;\n",
       "    }\n",
       "\n",
       "    .dataframe tbody tr th {\n",
       "        vertical-align: top;\n",
       "    }\n",
       "\n",
       "    .dataframe thead th {\n",
       "        text-align: right;\n",
       "    }\n",
       "</style>\n",
       "<table border=\"1\" class=\"dataframe\">\n",
       "  <thead>\n",
       "    <tr style=\"text-align: right;\">\n",
       "      <th></th>\n",
       "      <th>Date</th>\n",
       "      <th>Open</th>\n",
       "      <th>High</th>\n",
       "      <th>Low</th>\n",
       "      <th>Close</th>\n",
       "      <th>Volume</th>\n",
       "      <th>Adj Close</th>\n",
       "    </tr>\n",
       "  </thead>\n",
       "  <tbody>\n",
       "    <tr>\n",
       "      <th>0</th>\n",
       "      <td>2016-07-01</td>\n",
       "      <td>17924.240234</td>\n",
       "      <td>18002.380859</td>\n",
       "      <td>17916.910156</td>\n",
       "      <td>17949.369141</td>\n",
       "      <td>82160000</td>\n",
       "      <td>17949.369141</td>\n",
       "    </tr>\n",
       "    <tr>\n",
       "      <th>1</th>\n",
       "      <td>2016-06-30</td>\n",
       "      <td>17712.759766</td>\n",
       "      <td>17930.609375</td>\n",
       "      <td>17711.800781</td>\n",
       "      <td>17929.990234</td>\n",
       "      <td>133030000</td>\n",
       "      <td>17929.990234</td>\n",
       "    </tr>\n",
       "    <tr>\n",
       "      <th>2</th>\n",
       "      <td>2016-06-29</td>\n",
       "      <td>17456.019531</td>\n",
       "      <td>17704.509766</td>\n",
       "      <td>17456.019531</td>\n",
       "      <td>17694.679688</td>\n",
       "      <td>106380000</td>\n",
       "      <td>17694.679688</td>\n",
       "    </tr>\n",
       "    <tr>\n",
       "      <th>3</th>\n",
       "      <td>2016-06-28</td>\n",
       "      <td>17190.509766</td>\n",
       "      <td>17409.720703</td>\n",
       "      <td>17190.509766</td>\n",
       "      <td>17409.720703</td>\n",
       "      <td>112190000</td>\n",
       "      <td>17409.720703</td>\n",
       "    </tr>\n",
       "    <tr>\n",
       "      <th>4</th>\n",
       "      <td>2016-06-27</td>\n",
       "      <td>17355.210938</td>\n",
       "      <td>17355.210938</td>\n",
       "      <td>17063.080078</td>\n",
       "      <td>17140.240234</td>\n",
       "      <td>138740000</td>\n",
       "      <td>17140.240234</td>\n",
       "    </tr>\n",
       "  </tbody>\n",
       "</table>\n",
       "</div>"
      ],
      "text/plain": [
       "         Date          Open          High           Low         Close  \\\n",
       "0  2016-07-01  17924.240234  18002.380859  17916.910156  17949.369141   \n",
       "1  2016-06-30  17712.759766  17930.609375  17711.800781  17929.990234   \n",
       "2  2016-06-29  17456.019531  17704.509766  17456.019531  17694.679688   \n",
       "3  2016-06-28  17190.509766  17409.720703  17190.509766  17409.720703   \n",
       "4  2016-06-27  17355.210938  17355.210938  17063.080078  17140.240234   \n",
       "\n",
       "      Volume     Adj Close  \n",
       "0   82160000  17949.369141  \n",
       "1  133030000  17929.990234  \n",
       "2  106380000  17694.679688  \n",
       "3  112190000  17409.720703  \n",
       "4  138740000  17140.240234  "
      ]
     },
     "execution_count": 8,
     "metadata": {},
     "output_type": "execute_result"
    }
   ],
   "source": [
    "data2.head()"
   ]
  },
  {
   "cell_type": "code",
   "execution_count": 9,
   "id": "6650b096",
   "metadata": {
    "execution": {
     "iopub.execute_input": "2024-02-18T02:39:22.351485Z",
     "iopub.status.busy": "2024-02-18T02:39:22.351053Z",
     "iopub.status.idle": "2024-02-18T02:39:22.390158Z",
     "shell.execute_reply": "2024-02-18T02:39:22.389018Z"
    },
    "papermill": {
     "duration": 0.056405,
     "end_time": "2024-02-18T02:39:22.392737",
     "exception": false,
     "start_time": "2024-02-18T02:39:22.336332",
     "status": "completed"
    },
    "tags": []
   },
   "outputs": [
    {
     "data": {
      "text/html": [
       "<div>\n",
       "<style scoped>\n",
       "    .dataframe tbody tr th:only-of-type {\n",
       "        vertical-align: middle;\n",
       "    }\n",
       "\n",
       "    .dataframe tbody tr th {\n",
       "        vertical-align: top;\n",
       "    }\n",
       "\n",
       "    .dataframe thead th {\n",
       "        text-align: right;\n",
       "    }\n",
       "</style>\n",
       "<table border=\"1\" class=\"dataframe\">\n",
       "  <thead>\n",
       "    <tr style=\"text-align: right;\">\n",
       "      <th></th>\n",
       "      <th>Date</th>\n",
       "      <th>Label</th>\n",
       "      <th>Top1</th>\n",
       "      <th>Top2</th>\n",
       "      <th>Top3</th>\n",
       "      <th>Top4</th>\n",
       "      <th>Top5</th>\n",
       "      <th>Top6</th>\n",
       "      <th>Top7</th>\n",
       "      <th>Top8</th>\n",
       "      <th>...</th>\n",
       "      <th>Top22</th>\n",
       "      <th>Top23</th>\n",
       "      <th>Top24</th>\n",
       "      <th>Top25</th>\n",
       "      <th>Open</th>\n",
       "      <th>High</th>\n",
       "      <th>Low</th>\n",
       "      <th>Close</th>\n",
       "      <th>Volume</th>\n",
       "      <th>Adj Close</th>\n",
       "    </tr>\n",
       "  </thead>\n",
       "  <tbody>\n",
       "    <tr>\n",
       "      <th>0</th>\n",
       "      <td>2008-08-08</td>\n",
       "      <td>0</td>\n",
       "      <td>b\"Georgia 'downs two Russian warplanes' as cou...</td>\n",
       "      <td>b'BREAKING: Musharraf to be impeached.'</td>\n",
       "      <td>b'Russia Today: Columns of troops roll into So...</td>\n",
       "      <td>b'Russian tanks are moving towards the capital...</td>\n",
       "      <td>b\"Afghan children raped with 'impunity,' U.N. ...</td>\n",
       "      <td>b'150 Russian tanks have entered South Ossetia...</td>\n",
       "      <td>b\"Breaking: Georgia invades South Ossetia, Rus...</td>\n",
       "      <td>b\"The 'enemy combatent' trials are nothing but...</td>\n",
       "      <td>...</td>\n",
       "      <td>b'Caucasus in crisis: Georgia invades South Os...</td>\n",
       "      <td>b'Indian shoe manufactory  - And again in a se...</td>\n",
       "      <td>b'Visitors Suffering from Mental Illnesses Ban...</td>\n",
       "      <td>b\"No Help for Mexico's Kidnapping Surge\"</td>\n",
       "      <td>11432.089844</td>\n",
       "      <td>11759.959961</td>\n",
       "      <td>11388.040039</td>\n",
       "      <td>11734.320312</td>\n",
       "      <td>212830000</td>\n",
       "      <td>11734.320312</td>\n",
       "    </tr>\n",
       "    <tr>\n",
       "      <th>1</th>\n",
       "      <td>2008-08-11</td>\n",
       "      <td>1</td>\n",
       "      <td>b'Why wont America and Nato help us? If they w...</td>\n",
       "      <td>b'Bush puts foot down on Georgian conflict'</td>\n",
       "      <td>b\"Jewish Georgian minister: Thanks to Israeli ...</td>\n",
       "      <td>b'Georgian army flees in disarray as Russians ...</td>\n",
       "      <td>b\"Olympic opening ceremony fireworks 'faked'\"</td>\n",
       "      <td>b'What were the Mossad with fraudulent New Zea...</td>\n",
       "      <td>b'Russia angered by Israeli military sale to G...</td>\n",
       "      <td>b'An American citizen living in S.Ossetia blam...</td>\n",
       "      <td>...</td>\n",
       "      <td>b' Russia has just beaten the United States ov...</td>\n",
       "      <td>b'Perhaps *the* question about the Georgia - R...</td>\n",
       "      <td>b'Russia is so much better at war'</td>\n",
       "      <td>b\"So this is what it's come to: trading sex fo...</td>\n",
       "      <td>11729.669922</td>\n",
       "      <td>11867.110352</td>\n",
       "      <td>11675.530273</td>\n",
       "      <td>11782.349609</td>\n",
       "      <td>183190000</td>\n",
       "      <td>11782.349609</td>\n",
       "    </tr>\n",
       "    <tr>\n",
       "      <th>2</th>\n",
       "      <td>2008-08-12</td>\n",
       "      <td>0</td>\n",
       "      <td>b'Remember that adorable 9-year-old who sang a...</td>\n",
       "      <td>b\"Russia 'ends Georgia operation'\"</td>\n",
       "      <td>b'\"If we had no sexual harassment we would hav...</td>\n",
       "      <td>b\"Al-Qa'eda is losing support in Iraq because ...</td>\n",
       "      <td>b'Ceasefire in Georgia: Putin Outmaneuvers the...</td>\n",
       "      <td>b'Why Microsoft and Intel tried to kill the XO...</td>\n",
       "      <td>b'Stratfor: The Russo-Georgian War and the Bal...</td>\n",
       "      <td>b\"I'm Trying to Get a Sense of This Whole Geor...</td>\n",
       "      <td>...</td>\n",
       "      <td>b'All signs point to the US encouraging Georgi...</td>\n",
       "      <td>b'Christopher King argues that the US and NATO...</td>\n",
       "      <td>b'America: The New Mexico?'</td>\n",
       "      <td>b\"BBC NEWS | Asia-Pacific | Extinction 'by man...</td>\n",
       "      <td>11781.700195</td>\n",
       "      <td>11782.349609</td>\n",
       "      <td>11601.519531</td>\n",
       "      <td>11642.469727</td>\n",
       "      <td>173590000</td>\n",
       "      <td>11642.469727</td>\n",
       "    </tr>\n",
       "  </tbody>\n",
       "</table>\n",
       "<p>3 rows × 33 columns</p>\n",
       "</div>"
      ],
      "text/plain": [
       "         Date  Label                                               Top1  \\\n",
       "0  2008-08-08      0  b\"Georgia 'downs two Russian warplanes' as cou...   \n",
       "1  2008-08-11      1  b'Why wont America and Nato help us? If they w...   \n",
       "2  2008-08-12      0  b'Remember that adorable 9-year-old who sang a...   \n",
       "\n",
       "                                          Top2  \\\n",
       "0      b'BREAKING: Musharraf to be impeached.'   \n",
       "1  b'Bush puts foot down on Georgian conflict'   \n",
       "2           b\"Russia 'ends Georgia operation'\"   \n",
       "\n",
       "                                                Top3  \\\n",
       "0  b'Russia Today: Columns of troops roll into So...   \n",
       "1  b\"Jewish Georgian minister: Thanks to Israeli ...   \n",
       "2  b'\"If we had no sexual harassment we would hav...   \n",
       "\n",
       "                                                Top4  \\\n",
       "0  b'Russian tanks are moving towards the capital...   \n",
       "1  b'Georgian army flees in disarray as Russians ...   \n",
       "2  b\"Al-Qa'eda is losing support in Iraq because ...   \n",
       "\n",
       "                                                Top5  \\\n",
       "0  b\"Afghan children raped with 'impunity,' U.N. ...   \n",
       "1      b\"Olympic opening ceremony fireworks 'faked'\"   \n",
       "2  b'Ceasefire in Georgia: Putin Outmaneuvers the...   \n",
       "\n",
       "                                                Top6  \\\n",
       "0  b'150 Russian tanks have entered South Ossetia...   \n",
       "1  b'What were the Mossad with fraudulent New Zea...   \n",
       "2  b'Why Microsoft and Intel tried to kill the XO...   \n",
       "\n",
       "                                                Top7  \\\n",
       "0  b\"Breaking: Georgia invades South Ossetia, Rus...   \n",
       "1  b'Russia angered by Israeli military sale to G...   \n",
       "2  b'Stratfor: The Russo-Georgian War and the Bal...   \n",
       "\n",
       "                                                Top8  ...  \\\n",
       "0  b\"The 'enemy combatent' trials are nothing but...  ...   \n",
       "1  b'An American citizen living in S.Ossetia blam...  ...   \n",
       "2  b\"I'm Trying to Get a Sense of This Whole Geor...  ...   \n",
       "\n",
       "                                               Top22  \\\n",
       "0  b'Caucasus in crisis: Georgia invades South Os...   \n",
       "1  b' Russia has just beaten the United States ov...   \n",
       "2  b'All signs point to the US encouraging Georgi...   \n",
       "\n",
       "                                               Top23  \\\n",
       "0  b'Indian shoe manufactory  - And again in a se...   \n",
       "1  b'Perhaps *the* question about the Georgia - R...   \n",
       "2  b'Christopher King argues that the US and NATO...   \n",
       "\n",
       "                                               Top24  \\\n",
       "0  b'Visitors Suffering from Mental Illnesses Ban...   \n",
       "1                 b'Russia is so much better at war'   \n",
       "2                        b'America: The New Mexico?'   \n",
       "\n",
       "                                               Top25          Open  \\\n",
       "0           b\"No Help for Mexico's Kidnapping Surge\"  11432.089844   \n",
       "1  b\"So this is what it's come to: trading sex fo...  11729.669922   \n",
       "2  b\"BBC NEWS | Asia-Pacific | Extinction 'by man...  11781.700195   \n",
       "\n",
       "           High           Low         Close     Volume     Adj Close  \n",
       "0  11759.959961  11388.040039  11734.320312  212830000  11734.320312  \n",
       "1  11867.110352  11675.530273  11782.349609  183190000  11782.349609  \n",
       "2  11782.349609  11601.519531  11642.469727  173590000  11642.469727  \n",
       "\n",
       "[3 rows x 33 columns]"
      ]
     },
     "execution_count": 9,
     "metadata": {},
     "output_type": "execute_result"
    }
   ],
   "source": [
    "# merge stock price and news data\n",
    "merge = data.merge(data2,how=\"inner\",on=\"Date\")\n",
    "merge.head(3)"
   ]
  },
  {
   "cell_type": "code",
   "execution_count": 10,
   "id": "7da27e68",
   "metadata": {
    "execution": {
     "iopub.execute_input": "2024-02-18T02:39:22.421875Z",
     "iopub.status.busy": "2024-02-18T02:39:22.421438Z",
     "iopub.status.idle": "2024-02-18T02:39:22.800889Z",
     "shell.execute_reply": "2024-02-18T02:39:22.799804Z"
    },
    "papermill": {
     "duration": 0.397103,
     "end_time": "2024-02-18T02:39:22.803156",
     "exception": false,
     "start_time": "2024-02-18T02:39:22.406053",
     "status": "completed"
    },
    "tags": []
   },
   "outputs": [
    {
     "data": {
      "text/html": [
       "<div>\n",
       "<style scoped>\n",
       "    .dataframe tbody tr th:only-of-type {\n",
       "        vertical-align: middle;\n",
       "    }\n",
       "\n",
       "    .dataframe tbody tr th {\n",
       "        vertical-align: top;\n",
       "    }\n",
       "\n",
       "    .dataframe thead th {\n",
       "        text-align: right;\n",
       "    }\n",
       "</style>\n",
       "<table border=\"1\" class=\"dataframe\">\n",
       "  <thead>\n",
       "    <tr style=\"text-align: right;\">\n",
       "      <th></th>\n",
       "      <th>Date</th>\n",
       "      <th>Label</th>\n",
       "      <th>Top1</th>\n",
       "      <th>Top2</th>\n",
       "      <th>Top3</th>\n",
       "      <th>Top4</th>\n",
       "      <th>Top5</th>\n",
       "      <th>Top6</th>\n",
       "      <th>Top7</th>\n",
       "      <th>Top8</th>\n",
       "      <th>...</th>\n",
       "      <th>Top23</th>\n",
       "      <th>Top24</th>\n",
       "      <th>Top25</th>\n",
       "      <th>Open</th>\n",
       "      <th>High</th>\n",
       "      <th>Low</th>\n",
       "      <th>Close</th>\n",
       "      <th>Volume</th>\n",
       "      <th>Adj Close</th>\n",
       "      <th>Combined_News</th>\n",
       "    </tr>\n",
       "  </thead>\n",
       "  <tbody>\n",
       "    <tr>\n",
       "      <th>0</th>\n",
       "      <td>2008-08-08</td>\n",
       "      <td>0</td>\n",
       "      <td>b\"Georgia 'downs two Russian warplanes' as cou...</td>\n",
       "      <td>b'BREAKING: Musharraf to be impeached.'</td>\n",
       "      <td>b'Russia Today: Columns of troops roll into So...</td>\n",
       "      <td>b'Russian tanks are moving towards the capital...</td>\n",
       "      <td>b\"Afghan children raped with 'impunity,' U.N. ...</td>\n",
       "      <td>b'150 Russian tanks have entered South Ossetia...</td>\n",
       "      <td>b\"Breaking: Georgia invades South Ossetia, Rus...</td>\n",
       "      <td>b\"The 'enemy combatent' trials are nothing but...</td>\n",
       "      <td>...</td>\n",
       "      <td>b'Indian shoe manufactory  - And again in a se...</td>\n",
       "      <td>b'Visitors Suffering from Mental Illnesses Ban...</td>\n",
       "      <td>b\"No Help for Mexico's Kidnapping Surge\"</td>\n",
       "      <td>11432.089844</td>\n",
       "      <td>11759.959961</td>\n",
       "      <td>11388.040039</td>\n",
       "      <td>11734.320312</td>\n",
       "      <td>212830000</td>\n",
       "      <td>11734.320312</td>\n",
       "      <td>Georgia downs two Russian warplanes as countri...</td>\n",
       "    </tr>\n",
       "    <tr>\n",
       "      <th>1</th>\n",
       "      <td>2008-08-11</td>\n",
       "      <td>1</td>\n",
       "      <td>b'Why wont America and Nato help us? If they w...</td>\n",
       "      <td>b'Bush puts foot down on Georgian conflict'</td>\n",
       "      <td>b\"Jewish Georgian minister: Thanks to Israeli ...</td>\n",
       "      <td>b'Georgian army flees in disarray as Russians ...</td>\n",
       "      <td>b\"Olympic opening ceremony fireworks 'faked'\"</td>\n",
       "      <td>b'What were the Mossad with fraudulent New Zea...</td>\n",
       "      <td>b'Russia angered by Israeli military sale to G...</td>\n",
       "      <td>b'An American citizen living in S.Ossetia blam...</td>\n",
       "      <td>...</td>\n",
       "      <td>b'Perhaps *the* question about the Georgia - R...</td>\n",
       "      <td>b'Russia is so much better at war'</td>\n",
       "      <td>b\"So this is what it's come to: trading sex fo...</td>\n",
       "      <td>11729.669922</td>\n",
       "      <td>11867.110352</td>\n",
       "      <td>11675.530273</td>\n",
       "      <td>11782.349609</td>\n",
       "      <td>183190000</td>\n",
       "      <td>11782.349609</td>\n",
       "      <td>Why wont America and Nato help us? If they won...</td>\n",
       "    </tr>\n",
       "    <tr>\n",
       "      <th>2</th>\n",
       "      <td>2008-08-12</td>\n",
       "      <td>0</td>\n",
       "      <td>b'Remember that adorable 9-year-old who sang a...</td>\n",
       "      <td>b\"Russia 'ends Georgia operation'\"</td>\n",
       "      <td>b'\"If we had no sexual harassment we would hav...</td>\n",
       "      <td>b\"Al-Qa'eda is losing support in Iraq because ...</td>\n",
       "      <td>b'Ceasefire in Georgia: Putin Outmaneuvers the...</td>\n",
       "      <td>b'Why Microsoft and Intel tried to kill the XO...</td>\n",
       "      <td>b'Stratfor: The Russo-Georgian War and the Bal...</td>\n",
       "      <td>b\"I'm Trying to Get a Sense of This Whole Geor...</td>\n",
       "      <td>...</td>\n",
       "      <td>b'Christopher King argues that the US and NATO...</td>\n",
       "      <td>b'America: The New Mexico?'</td>\n",
       "      <td>b\"BBC NEWS | Asia-Pacific | Extinction 'by man...</td>\n",
       "      <td>11781.700195</td>\n",
       "      <td>11782.349609</td>\n",
       "      <td>11601.519531</td>\n",
       "      <td>11642.469727</td>\n",
       "      <td>173590000</td>\n",
       "      <td>11642.469727</td>\n",
       "      <td>Remember that adorable 9-year-old who sang at ...</td>\n",
       "    </tr>\n",
       "    <tr>\n",
       "      <th>3</th>\n",
       "      <td>2008-08-13</td>\n",
       "      <td>0</td>\n",
       "      <td>b' U.S. refuses Israel weapons to attack Iran:...</td>\n",
       "      <td>b\"When the president ordered to attack Tskhinv...</td>\n",
       "      <td>b' Israel clears troops who killed Reuters cam...</td>\n",
       "      <td>b'Britain\\'s policy of being tough on drugs is...</td>\n",
       "      <td>b'Body of 14 year old found in trunk; Latest (...</td>\n",
       "      <td>b'China has moved 10 *million* quake survivors...</td>\n",
       "      <td>b\"Bush announces Operation Get All Up In Russi...</td>\n",
       "      <td>b'Russian forces sink Georgian ships '</td>\n",
       "      <td>...</td>\n",
       "      <td>b' Quarter of Russians blame U.S. for conflict...</td>\n",
       "      <td>b'Georgian president  says US military will ta...</td>\n",
       "      <td>b'2006: Nobel laureate Aleksander Solzhenitsyn...</td>\n",
       "      <td>11632.809570</td>\n",
       "      <td>11633.780273</td>\n",
       "      <td>11453.339844</td>\n",
       "      <td>11532.959961</td>\n",
       "      <td>182550000</td>\n",
       "      <td>11532.959961</td>\n",
       "      <td>U.S. refuses Israel weapons to attack Iran: r...</td>\n",
       "    </tr>\n",
       "    <tr>\n",
       "      <th>4</th>\n",
       "      <td>2008-08-14</td>\n",
       "      <td>1</td>\n",
       "      <td>b'All the experts admit that we should legalis...</td>\n",
       "      <td>b'War in South Osetia - 89 pictures made by a ...</td>\n",
       "      <td>b'Swedish wrestler Ara Abrahamian throws away ...</td>\n",
       "      <td>b'Russia exaggerated the death toll in South O...</td>\n",
       "      <td>b'Missile That Killed 9 Inside Pakistan May Ha...</td>\n",
       "      <td>b\"Rushdie Condemns Random House's Refusal to P...</td>\n",
       "      <td>b'Poland and US agree to missle defense deal. ...</td>\n",
       "      <td>b'Will the Russians conquer Tblisi? Bet on it,...</td>\n",
       "      <td>...</td>\n",
       "      <td>b'Russia: World  \"can forget about\" Georgia\\'s...</td>\n",
       "      <td>b'Darfur rebels accuse Sudan of mounting major...</td>\n",
       "      <td>b'Philippines : Peace Advocate say Muslims nee...</td>\n",
       "      <td>11532.070312</td>\n",
       "      <td>11718.280273</td>\n",
       "      <td>11450.889648</td>\n",
       "      <td>11615.929688</td>\n",
       "      <td>159790000</td>\n",
       "      <td>11615.929688</td>\n",
       "      <td>All the experts admit that we should legalise ...</td>\n",
       "    </tr>\n",
       "  </tbody>\n",
       "</table>\n",
       "<p>5 rows × 34 columns</p>\n",
       "</div>"
      ],
      "text/plain": [
       "         Date  Label                                               Top1  \\\n",
       "0  2008-08-08      0  b\"Georgia 'downs two Russian warplanes' as cou...   \n",
       "1  2008-08-11      1  b'Why wont America and Nato help us? If they w...   \n",
       "2  2008-08-12      0  b'Remember that adorable 9-year-old who sang a...   \n",
       "3  2008-08-13      0  b' U.S. refuses Israel weapons to attack Iran:...   \n",
       "4  2008-08-14      1  b'All the experts admit that we should legalis...   \n",
       "\n",
       "                                                Top2  \\\n",
       "0            b'BREAKING: Musharraf to be impeached.'   \n",
       "1        b'Bush puts foot down on Georgian conflict'   \n",
       "2                 b\"Russia 'ends Georgia operation'\"   \n",
       "3  b\"When the president ordered to attack Tskhinv...   \n",
       "4  b'War in South Osetia - 89 pictures made by a ...   \n",
       "\n",
       "                                                Top3  \\\n",
       "0  b'Russia Today: Columns of troops roll into So...   \n",
       "1  b\"Jewish Georgian minister: Thanks to Israeli ...   \n",
       "2  b'\"If we had no sexual harassment we would hav...   \n",
       "3  b' Israel clears troops who killed Reuters cam...   \n",
       "4  b'Swedish wrestler Ara Abrahamian throws away ...   \n",
       "\n",
       "                                                Top4  \\\n",
       "0  b'Russian tanks are moving towards the capital...   \n",
       "1  b'Georgian army flees in disarray as Russians ...   \n",
       "2  b\"Al-Qa'eda is losing support in Iraq because ...   \n",
       "3  b'Britain\\'s policy of being tough on drugs is...   \n",
       "4  b'Russia exaggerated the death toll in South O...   \n",
       "\n",
       "                                                Top5  \\\n",
       "0  b\"Afghan children raped with 'impunity,' U.N. ...   \n",
       "1      b\"Olympic opening ceremony fireworks 'faked'\"   \n",
       "2  b'Ceasefire in Georgia: Putin Outmaneuvers the...   \n",
       "3  b'Body of 14 year old found in trunk; Latest (...   \n",
       "4  b'Missile That Killed 9 Inside Pakistan May Ha...   \n",
       "\n",
       "                                                Top6  \\\n",
       "0  b'150 Russian tanks have entered South Ossetia...   \n",
       "1  b'What were the Mossad with fraudulent New Zea...   \n",
       "2  b'Why Microsoft and Intel tried to kill the XO...   \n",
       "3  b'China has moved 10 *million* quake survivors...   \n",
       "4  b\"Rushdie Condemns Random House's Refusal to P...   \n",
       "\n",
       "                                                Top7  \\\n",
       "0  b\"Breaking: Georgia invades South Ossetia, Rus...   \n",
       "1  b'Russia angered by Israeli military sale to G...   \n",
       "2  b'Stratfor: The Russo-Georgian War and the Bal...   \n",
       "3  b\"Bush announces Operation Get All Up In Russi...   \n",
       "4  b'Poland and US agree to missle defense deal. ...   \n",
       "\n",
       "                                                Top8  ...  \\\n",
       "0  b\"The 'enemy combatent' trials are nothing but...  ...   \n",
       "1  b'An American citizen living in S.Ossetia blam...  ...   \n",
       "2  b\"I'm Trying to Get a Sense of This Whole Geor...  ...   \n",
       "3             b'Russian forces sink Georgian ships '  ...   \n",
       "4  b'Will the Russians conquer Tblisi? Bet on it,...  ...   \n",
       "\n",
       "                                               Top23  \\\n",
       "0  b'Indian shoe manufactory  - And again in a se...   \n",
       "1  b'Perhaps *the* question about the Georgia - R...   \n",
       "2  b'Christopher King argues that the US and NATO...   \n",
       "3  b' Quarter of Russians blame U.S. for conflict...   \n",
       "4  b'Russia: World  \"can forget about\" Georgia\\'s...   \n",
       "\n",
       "                                               Top24  \\\n",
       "0  b'Visitors Suffering from Mental Illnesses Ban...   \n",
       "1                 b'Russia is so much better at war'   \n",
       "2                        b'America: The New Mexico?'   \n",
       "3  b'Georgian president  says US military will ta...   \n",
       "4  b'Darfur rebels accuse Sudan of mounting major...   \n",
       "\n",
       "                                               Top25          Open  \\\n",
       "0           b\"No Help for Mexico's Kidnapping Surge\"  11432.089844   \n",
       "1  b\"So this is what it's come to: trading sex fo...  11729.669922   \n",
       "2  b\"BBC NEWS | Asia-Pacific | Extinction 'by man...  11781.700195   \n",
       "3  b'2006: Nobel laureate Aleksander Solzhenitsyn...  11632.809570   \n",
       "4  b'Philippines : Peace Advocate say Muslims nee...  11532.070312   \n",
       "\n",
       "           High           Low         Close     Volume     Adj Close  \\\n",
       "0  11759.959961  11388.040039  11734.320312  212830000  11734.320312   \n",
       "1  11867.110352  11675.530273  11782.349609  183190000  11782.349609   \n",
       "2  11782.349609  11601.519531  11642.469727  173590000  11642.469727   \n",
       "3  11633.780273  11453.339844  11532.959961  182550000  11532.959961   \n",
       "4  11718.280273  11450.889648  11615.929688  159790000  11615.929688   \n",
       "\n",
       "                                       Combined_News  \n",
       "0  Georgia downs two Russian warplanes as countri...  \n",
       "1  Why wont America and Nato help us? If they won...  \n",
       "2  Remember that adorable 9-year-old who sang at ...  \n",
       "3   U.S. refuses Israel weapons to attack Iran: r...  \n",
       "4  All the experts admit that we should legalise ...  \n",
       "\n",
       "[5 rows x 34 columns]"
      ]
     },
     "execution_count": 10,
     "metadata": {},
     "output_type": "execute_result"
    }
   ],
   "source": [
    "# combine all news headlines in a row\n",
    "headline=[]\n",
    "for row in range(0,len(merge.index)):\n",
    "    headline.append(\" \".join(str(x) for x in merge.iloc[row,2:27]))\n",
    "\n",
    "clean_headline=[]\n",
    "for i in range(0,len(headline)):\n",
    "    clean_headline.append(re.sub(\"b[(')]\",'',headline[i])) #remove b'\n",
    "    clean_headline[i]=re.sub('b[(\")]','',clean_headline[i]) #remove b\"\n",
    "    clean_headline[i]=re.sub(\"\\'\",'',clean_headline[i]) #remove \\'\n",
    "\n",
    "merge['Combined_News'] = clean_headline\n",
    "merge.head()"
   ]
  },
  {
   "cell_type": "code",
   "execution_count": 11,
   "id": "647926ed",
   "metadata": {
    "execution": {
     "iopub.execute_input": "2024-02-18T02:39:22.832296Z",
     "iopub.status.busy": "2024-02-18T02:39:22.831606Z",
     "iopub.status.idle": "2024-02-18T02:39:22.836885Z",
     "shell.execute_reply": "2024-02-18T02:39:22.835918Z"
    },
    "papermill": {
     "duration": 0.022526,
     "end_time": "2024-02-18T02:39:22.839148",
     "exception": false,
     "start_time": "2024-02-18T02:39:22.816622",
     "status": "completed"
    },
    "tags": []
   },
   "outputs": [],
   "source": [
    "def get_subjectivity(text):\n",
    "    return TextBlob(text).sentiment.subjectivity\n",
    "\n",
    "def get_polarity(text):\n",
    "    return TextBlob(text).sentiment.polarity\n",
    "\n",
    "def getSIA(text):\n",
    "    sia = SentimentIntensityAnalyzer()\n",
    "    sentiment= sia.polarity_scores(text)\n",
    "    return sentiment"
   ]
  },
  {
   "cell_type": "code",
   "execution_count": 14,
   "id": "35583723",
   "metadata": {
    "execution": {
     "iopub.execute_input": "2024-02-18T02:39:22.868622Z",
     "iopub.status.busy": "2024-02-18T02:39:22.868137Z",
     "iopub.status.idle": "2024-02-18T02:39:34.507424Z",
     "shell.execute_reply": "2024-02-18T02:39:34.506205Z"
    },
    "papermill": {
     "duration": 11.657221,
     "end_time": "2024-02-18T02:39:34.510155",
     "exception": false,
     "start_time": "2024-02-18T02:39:22.852934",
     "status": "completed"
    },
    "tags": []
   },
   "outputs": [],
   "source": [
    "merge['Subjectivity'] = merge['Combined_News'].apply(get_subjectivity)\n",
    "merge['Polarity'] = merge['Combined_News'].apply(get_polarity)"
   ]
  },
  {
   "cell_type": "code",
   "execution_count": 13,
   "id": "d121606a",
   "metadata": {
    "execution": {
     "iopub.execute_input": "2024-02-18T02:39:34.539932Z",
     "iopub.status.busy": "2024-02-18T02:39:34.539501Z",
     "iopub.status.idle": "2024-02-18T02:39:34.564126Z",
     "shell.execute_reply": "2024-02-18T02:39:34.562967Z"
    },
    "papermill": {
     "duration": 0.042539,
     "end_time": "2024-02-18T02:39:34.566338",
     "exception": false,
     "start_time": "2024-02-18T02:39:34.523799",
     "status": "completed"
    },
    "tags": []
   },
   "outputs": [
    {
     "data": {
      "text/html": [
       "<div>\n",
       "<style scoped>\n",
       "    .dataframe tbody tr th:only-of-type {\n",
       "        vertical-align: middle;\n",
       "    }\n",
       "\n",
       "    .dataframe tbody tr th {\n",
       "        vertical-align: top;\n",
       "    }\n",
       "\n",
       "    .dataframe thead th {\n",
       "        text-align: right;\n",
       "    }\n",
       "</style>\n",
       "<table border=\"1\" class=\"dataframe\">\n",
       "  <thead>\n",
       "    <tr style=\"text-align: right;\">\n",
       "      <th></th>\n",
       "      <th>Date</th>\n",
       "      <th>Label</th>\n",
       "      <th>Top1</th>\n",
       "      <th>Top2</th>\n",
       "      <th>Top3</th>\n",
       "      <th>Top4</th>\n",
       "      <th>Top5</th>\n",
       "      <th>Top6</th>\n",
       "      <th>Top7</th>\n",
       "      <th>Top8</th>\n",
       "      <th>...</th>\n",
       "      <th>Top25</th>\n",
       "      <th>Open</th>\n",
       "      <th>High</th>\n",
       "      <th>Low</th>\n",
       "      <th>Close</th>\n",
       "      <th>Volume</th>\n",
       "      <th>Adj Close</th>\n",
       "      <th>Combined_News</th>\n",
       "      <th>Subjectivity</th>\n",
       "      <th>Polarity</th>\n",
       "    </tr>\n",
       "  </thead>\n",
       "  <tbody>\n",
       "    <tr>\n",
       "      <th>0</th>\n",
       "      <td>2008-08-08</td>\n",
       "      <td>0</td>\n",
       "      <td>b\"Georgia 'downs two Russian warplanes' as cou...</td>\n",
       "      <td>b'BREAKING: Musharraf to be impeached.'</td>\n",
       "      <td>b'Russia Today: Columns of troops roll into So...</td>\n",
       "      <td>b'Russian tanks are moving towards the capital...</td>\n",
       "      <td>b\"Afghan children raped with 'impunity,' U.N. ...</td>\n",
       "      <td>b'150 Russian tanks have entered South Ossetia...</td>\n",
       "      <td>b\"Breaking: Georgia invades South Ossetia, Rus...</td>\n",
       "      <td>b\"The 'enemy combatent' trials are nothing but...</td>\n",
       "      <td>...</td>\n",
       "      <td>b\"No Help for Mexico's Kidnapping Surge\"</td>\n",
       "      <td>11432.089844</td>\n",
       "      <td>11759.959961</td>\n",
       "      <td>11388.040039</td>\n",
       "      <td>11734.320312</td>\n",
       "      <td>212830000</td>\n",
       "      <td>11734.320312</td>\n",
       "      <td>Georgia downs two Russian warplanes as countri...</td>\n",
       "      <td>0.267549</td>\n",
       "      <td>-0.048568</td>\n",
       "    </tr>\n",
       "    <tr>\n",
       "      <th>1</th>\n",
       "      <td>2008-08-11</td>\n",
       "      <td>1</td>\n",
       "      <td>b'Why wont America and Nato help us? If they w...</td>\n",
       "      <td>b'Bush puts foot down on Georgian conflict'</td>\n",
       "      <td>b\"Jewish Georgian minister: Thanks to Israeli ...</td>\n",
       "      <td>b'Georgian army flees in disarray as Russians ...</td>\n",
       "      <td>b\"Olympic opening ceremony fireworks 'faked'\"</td>\n",
       "      <td>b'What were the Mossad with fraudulent New Zea...</td>\n",
       "      <td>b'Russia angered by Israeli military sale to G...</td>\n",
       "      <td>b'An American citizen living in S.Ossetia blam...</td>\n",
       "      <td>...</td>\n",
       "      <td>b\"So this is what it's come to: trading sex fo...</td>\n",
       "      <td>11729.669922</td>\n",
       "      <td>11867.110352</td>\n",
       "      <td>11675.530273</td>\n",
       "      <td>11782.349609</td>\n",
       "      <td>183190000</td>\n",
       "      <td>11782.349609</td>\n",
       "      <td>Why wont America and Nato help us? If they won...</td>\n",
       "      <td>0.374806</td>\n",
       "      <td>0.121956</td>\n",
       "    </tr>\n",
       "    <tr>\n",
       "      <th>2</th>\n",
       "      <td>2008-08-12</td>\n",
       "      <td>0</td>\n",
       "      <td>b'Remember that adorable 9-year-old who sang a...</td>\n",
       "      <td>b\"Russia 'ends Georgia operation'\"</td>\n",
       "      <td>b'\"If we had no sexual harassment we would hav...</td>\n",
       "      <td>b\"Al-Qa'eda is losing support in Iraq because ...</td>\n",
       "      <td>b'Ceasefire in Georgia: Putin Outmaneuvers the...</td>\n",
       "      <td>b'Why Microsoft and Intel tried to kill the XO...</td>\n",
       "      <td>b'Stratfor: The Russo-Georgian War and the Bal...</td>\n",
       "      <td>b\"I'm Trying to Get a Sense of This Whole Geor...</td>\n",
       "      <td>...</td>\n",
       "      <td>b\"BBC NEWS | Asia-Pacific | Extinction 'by man...</td>\n",
       "      <td>11781.700195</td>\n",
       "      <td>11782.349609</td>\n",
       "      <td>11601.519531</td>\n",
       "      <td>11642.469727</td>\n",
       "      <td>173590000</td>\n",
       "      <td>11642.469727</td>\n",
       "      <td>Remember that adorable 9-year-old who sang at ...</td>\n",
       "      <td>0.536234</td>\n",
       "      <td>-0.044302</td>\n",
       "    </tr>\n",
       "  </tbody>\n",
       "</table>\n",
       "<p>3 rows × 36 columns</p>\n",
       "</div>"
      ],
      "text/plain": [
       "         Date  Label                                               Top1  \\\n",
       "0  2008-08-08      0  b\"Georgia 'downs two Russian warplanes' as cou...   \n",
       "1  2008-08-11      1  b'Why wont America and Nato help us? If they w...   \n",
       "2  2008-08-12      0  b'Remember that adorable 9-year-old who sang a...   \n",
       "\n",
       "                                          Top2  \\\n",
       "0      b'BREAKING: Musharraf to be impeached.'   \n",
       "1  b'Bush puts foot down on Georgian conflict'   \n",
       "2           b\"Russia 'ends Georgia operation'\"   \n",
       "\n",
       "                                                Top3  \\\n",
       "0  b'Russia Today: Columns of troops roll into So...   \n",
       "1  b\"Jewish Georgian minister: Thanks to Israeli ...   \n",
       "2  b'\"If we had no sexual harassment we would hav...   \n",
       "\n",
       "                                                Top4  \\\n",
       "0  b'Russian tanks are moving towards the capital...   \n",
       "1  b'Georgian army flees in disarray as Russians ...   \n",
       "2  b\"Al-Qa'eda is losing support in Iraq because ...   \n",
       "\n",
       "                                                Top5  \\\n",
       "0  b\"Afghan children raped with 'impunity,' U.N. ...   \n",
       "1      b\"Olympic opening ceremony fireworks 'faked'\"   \n",
       "2  b'Ceasefire in Georgia: Putin Outmaneuvers the...   \n",
       "\n",
       "                                                Top6  \\\n",
       "0  b'150 Russian tanks have entered South Ossetia...   \n",
       "1  b'What were the Mossad with fraudulent New Zea...   \n",
       "2  b'Why Microsoft and Intel tried to kill the XO...   \n",
       "\n",
       "                                                Top7  \\\n",
       "0  b\"Breaking: Georgia invades South Ossetia, Rus...   \n",
       "1  b'Russia angered by Israeli military sale to G...   \n",
       "2  b'Stratfor: The Russo-Georgian War and the Bal...   \n",
       "\n",
       "                                                Top8  ...  \\\n",
       "0  b\"The 'enemy combatent' trials are nothing but...  ...   \n",
       "1  b'An American citizen living in S.Ossetia blam...  ...   \n",
       "2  b\"I'm Trying to Get a Sense of This Whole Geor...  ...   \n",
       "\n",
       "                                               Top25          Open  \\\n",
       "0           b\"No Help for Mexico's Kidnapping Surge\"  11432.089844   \n",
       "1  b\"So this is what it's come to: trading sex fo...  11729.669922   \n",
       "2  b\"BBC NEWS | Asia-Pacific | Extinction 'by man...  11781.700195   \n",
       "\n",
       "           High           Low         Close     Volume     Adj Close  \\\n",
       "0  11759.959961  11388.040039  11734.320312  212830000  11734.320312   \n",
       "1  11867.110352  11675.530273  11782.349609  183190000  11782.349609   \n",
       "2  11782.349609  11601.519531  11642.469727  173590000  11642.469727   \n",
       "\n",
       "                                       Combined_News Subjectivity  Polarity  \n",
       "0  Georgia downs two Russian warplanes as countri...     0.267549 -0.048568  \n",
       "1  Why wont America and Nato help us? If they won...     0.374806  0.121956  \n",
       "2  Remember that adorable 9-year-old who sang at ...     0.536234 -0.044302  \n",
       "\n",
       "[3 rows x 36 columns]"
      ]
     },
     "execution_count": 13,
     "metadata": {},
     "output_type": "execute_result"
    }
   ],
   "source": [
    "merge.head(3)"
   ]
  },
  {
   "cell_type": "code",
   "execution_count": 15,
   "id": "265e0939",
   "metadata": {
    "execution": {
     "iopub.execute_input": "2024-02-18T02:39:34.596293Z",
     "iopub.status.busy": "2024-02-18T02:39:34.595496Z",
     "iopub.status.idle": "2024-02-18T02:40:27.605784Z",
     "shell.execute_reply": "2024-02-18T02:40:27.604677Z"
    },
    "papermill": {
     "duration": 53.028523,
     "end_time": "2024-02-18T02:40:27.608665",
     "exception": false,
     "start_time": "2024-02-18T02:39:34.580142",
     "status": "completed"
    },
    "tags": []
   },
   "outputs": [],
   "source": [
    "compound = []\n",
    "neg = []\n",
    "pos = []\n",
    "neu = []\n",
    "SIA = 0\n",
    "for i in range (0, len(merge['Combined_News'])):\n",
    "    SIA = getSIA(merge['Combined_News'][i])\n",
    "    compound.append(SIA['compound'])\n",
    "    neg.append(SIA['neg'])\n",
    "    pos.append(SIA['pos'])\n",
    "    neu.append(SIA['neu'])\n",
    "\n",
    "merge['compound'] = compound\n",
    "merge['neg'] = neg\n",
    "merge['pos'] = pos\n",
    "merge['neu'] = neu"
   ]
  },
  {
   "cell_type": "code",
   "execution_count": 17,
   "id": "731103ac",
   "metadata": {
    "execution": {
     "iopub.execute_input": "2024-02-18T02:40:27.640312Z",
     "iopub.status.busy": "2024-02-18T02:40:27.638873Z",
     "iopub.status.idle": "2024-02-18T02:40:27.664712Z",
     "shell.execute_reply": "2024-02-18T02:40:27.663692Z"
    },
    "papermill": {
     "duration": 0.043352,
     "end_time": "2024-02-18T02:40:27.666842",
     "exception": false,
     "start_time": "2024-02-18T02:40:27.623490",
     "status": "completed"
    },
    "tags": []
   },
   "outputs": [
    {
     "data": {
      "text/html": [
       "<div>\n",
       "<style scoped>\n",
       "    .dataframe tbody tr th:only-of-type {\n",
       "        vertical-align: middle;\n",
       "    }\n",
       "\n",
       "    .dataframe tbody tr th {\n",
       "        vertical-align: top;\n",
       "    }\n",
       "\n",
       "    .dataframe thead th {\n",
       "        text-align: right;\n",
       "    }\n",
       "</style>\n",
       "<table border=\"1\" class=\"dataframe\">\n",
       "  <thead>\n",
       "    <tr style=\"text-align: right;\">\n",
       "      <th></th>\n",
       "      <th>Date</th>\n",
       "      <th>Label</th>\n",
       "      <th>Top1</th>\n",
       "      <th>Top2</th>\n",
       "      <th>Top3</th>\n",
       "      <th>Top4</th>\n",
       "      <th>Top5</th>\n",
       "      <th>Top6</th>\n",
       "      <th>Top7</th>\n",
       "      <th>Top8</th>\n",
       "      <th>...</th>\n",
       "      <th>Close</th>\n",
       "      <th>Volume</th>\n",
       "      <th>Adj Close</th>\n",
       "      <th>Combined_News</th>\n",
       "      <th>Subjectivity</th>\n",
       "      <th>Polarity</th>\n",
       "      <th>compound</th>\n",
       "      <th>neg</th>\n",
       "      <th>pos</th>\n",
       "      <th>neu</th>\n",
       "    </tr>\n",
       "  </thead>\n",
       "  <tbody>\n",
       "    <tr>\n",
       "      <th>0</th>\n",
       "      <td>2008-08-08</td>\n",
       "      <td>0</td>\n",
       "      <td>b\"Georgia 'downs two Russian warplanes' as cou...</td>\n",
       "      <td>b'BREAKING: Musharraf to be impeached.'</td>\n",
       "      <td>b'Russia Today: Columns of troops roll into So...</td>\n",
       "      <td>b'Russian tanks are moving towards the capital...</td>\n",
       "      <td>b\"Afghan children raped with 'impunity,' U.N. ...</td>\n",
       "      <td>b'150 Russian tanks have entered South Ossetia...</td>\n",
       "      <td>b\"Breaking: Georgia invades South Ossetia, Rus...</td>\n",
       "      <td>b\"The 'enemy combatent' trials are nothing but...</td>\n",
       "      <td>...</td>\n",
       "      <td>11734.320312</td>\n",
       "      <td>212830000</td>\n",
       "      <td>11734.320312</td>\n",
       "      <td>Georgia downs two Russian warplanes as countri...</td>\n",
       "      <td>0.267549</td>\n",
       "      <td>-0.048568</td>\n",
       "      <td>-0.9982</td>\n",
       "      <td>0.235</td>\n",
       "      <td>0.041</td>\n",
       "      <td>0.724</td>\n",
       "    </tr>\n",
       "    <tr>\n",
       "      <th>1</th>\n",
       "      <td>2008-08-11</td>\n",
       "      <td>1</td>\n",
       "      <td>b'Why wont America and Nato help us? If they w...</td>\n",
       "      <td>b'Bush puts foot down on Georgian conflict'</td>\n",
       "      <td>b\"Jewish Georgian minister: Thanks to Israeli ...</td>\n",
       "      <td>b'Georgian army flees in disarray as Russians ...</td>\n",
       "      <td>b\"Olympic opening ceremony fireworks 'faked'\"</td>\n",
       "      <td>b'What were the Mossad with fraudulent New Zea...</td>\n",
       "      <td>b'Russia angered by Israeli military sale to G...</td>\n",
       "      <td>b'An American citizen living in S.Ossetia blam...</td>\n",
       "      <td>...</td>\n",
       "      <td>11782.349609</td>\n",
       "      <td>183190000</td>\n",
       "      <td>11782.349609</td>\n",
       "      <td>Why wont America and Nato help us? If they won...</td>\n",
       "      <td>0.374806</td>\n",
       "      <td>0.121956</td>\n",
       "      <td>-0.9858</td>\n",
       "      <td>0.191</td>\n",
       "      <td>0.089</td>\n",
       "      <td>0.721</td>\n",
       "    </tr>\n",
       "    <tr>\n",
       "      <th>2</th>\n",
       "      <td>2008-08-12</td>\n",
       "      <td>0</td>\n",
       "      <td>b'Remember that adorable 9-year-old who sang a...</td>\n",
       "      <td>b\"Russia 'ends Georgia operation'\"</td>\n",
       "      <td>b'\"If we had no sexual harassment we would hav...</td>\n",
       "      <td>b\"Al-Qa'eda is losing support in Iraq because ...</td>\n",
       "      <td>b'Ceasefire in Georgia: Putin Outmaneuvers the...</td>\n",
       "      <td>b'Why Microsoft and Intel tried to kill the XO...</td>\n",
       "      <td>b'Stratfor: The Russo-Georgian War and the Bal...</td>\n",
       "      <td>b\"I'm Trying to Get a Sense of This Whole Geor...</td>\n",
       "      <td>...</td>\n",
       "      <td>11642.469727</td>\n",
       "      <td>173590000</td>\n",
       "      <td>11642.469727</td>\n",
       "      <td>Remember that adorable 9-year-old who sang at ...</td>\n",
       "      <td>0.536234</td>\n",
       "      <td>-0.044302</td>\n",
       "      <td>-0.9715</td>\n",
       "      <td>0.128</td>\n",
       "      <td>0.056</td>\n",
       "      <td>0.816</td>\n",
       "    </tr>\n",
       "  </tbody>\n",
       "</table>\n",
       "<p>3 rows × 40 columns</p>\n",
       "</div>"
      ],
      "text/plain": [
       "         Date  Label                                               Top1  \\\n",
       "0  2008-08-08      0  b\"Georgia 'downs two Russian warplanes' as cou...   \n",
       "1  2008-08-11      1  b'Why wont America and Nato help us? If they w...   \n",
       "2  2008-08-12      0  b'Remember that adorable 9-year-old who sang a...   \n",
       "\n",
       "                                          Top2  \\\n",
       "0      b'BREAKING: Musharraf to be impeached.'   \n",
       "1  b'Bush puts foot down on Georgian conflict'   \n",
       "2           b\"Russia 'ends Georgia operation'\"   \n",
       "\n",
       "                                                Top3  \\\n",
       "0  b'Russia Today: Columns of troops roll into So...   \n",
       "1  b\"Jewish Georgian minister: Thanks to Israeli ...   \n",
       "2  b'\"If we had no sexual harassment we would hav...   \n",
       "\n",
       "                                                Top4  \\\n",
       "0  b'Russian tanks are moving towards the capital...   \n",
       "1  b'Georgian army flees in disarray as Russians ...   \n",
       "2  b\"Al-Qa'eda is losing support in Iraq because ...   \n",
       "\n",
       "                                                Top5  \\\n",
       "0  b\"Afghan children raped with 'impunity,' U.N. ...   \n",
       "1      b\"Olympic opening ceremony fireworks 'faked'\"   \n",
       "2  b'Ceasefire in Georgia: Putin Outmaneuvers the...   \n",
       "\n",
       "                                                Top6  \\\n",
       "0  b'150 Russian tanks have entered South Ossetia...   \n",
       "1  b'What were the Mossad with fraudulent New Zea...   \n",
       "2  b'Why Microsoft and Intel tried to kill the XO...   \n",
       "\n",
       "                                                Top7  \\\n",
       "0  b\"Breaking: Georgia invades South Ossetia, Rus...   \n",
       "1  b'Russia angered by Israeli military sale to G...   \n",
       "2  b'Stratfor: The Russo-Georgian War and the Bal...   \n",
       "\n",
       "                                                Top8  ...         Close  \\\n",
       "0  b\"The 'enemy combatent' trials are nothing but...  ...  11734.320312   \n",
       "1  b'An American citizen living in S.Ossetia blam...  ...  11782.349609   \n",
       "2  b\"I'm Trying to Get a Sense of This Whole Geor...  ...  11642.469727   \n",
       "\n",
       "      Volume     Adj Close                                      Combined_News  \\\n",
       "0  212830000  11734.320312  Georgia downs two Russian warplanes as countri...   \n",
       "1  183190000  11782.349609  Why wont America and Nato help us? If they won...   \n",
       "2  173590000  11642.469727  Remember that adorable 9-year-old who sang at ...   \n",
       "\n",
       "  Subjectivity  Polarity compound    neg    pos    neu  \n",
       "0     0.267549 -0.048568  -0.9982  0.235  0.041  0.724  \n",
       "1     0.374806  0.121956  -0.9858  0.191  0.089  0.721  \n",
       "2     0.536234 -0.044302  -0.9715  0.128  0.056  0.816  \n",
       "\n",
       "[3 rows x 40 columns]"
      ]
     },
     "execution_count": 17,
     "metadata": {},
     "output_type": "execute_result"
    }
   ],
   "source": [
    "merge.head(3)"
   ]
  },
  {
   "cell_type": "code",
   "execution_count": 18,
   "id": "c09261d9",
   "metadata": {
    "execution": {
     "iopub.execute_input": "2024-02-18T02:40:27.697272Z",
     "iopub.status.busy": "2024-02-18T02:40:27.696316Z",
     "iopub.status.idle": "2024-02-18T02:40:27.718463Z",
     "shell.execute_reply": "2024-02-18T02:40:27.717230Z"
    },
    "papermill": {
     "duration": 0.040107,
     "end_time": "2024-02-18T02:40:27.720975",
     "exception": false,
     "start_time": "2024-02-18T02:40:27.680868",
     "status": "completed"
    },
    "tags": []
   },
   "outputs": [
    {
     "data": {
      "text/html": [
       "<div>\n",
       "<style scoped>\n",
       "    .dataframe tbody tr th:only-of-type {\n",
       "        vertical-align: middle;\n",
       "    }\n",
       "\n",
       "    .dataframe tbody tr th {\n",
       "        vertical-align: top;\n",
       "    }\n",
       "\n",
       "    .dataframe thead th {\n",
       "        text-align: right;\n",
       "    }\n",
       "</style>\n",
       "<table border=\"1\" class=\"dataframe\">\n",
       "  <thead>\n",
       "    <tr style=\"text-align: right;\">\n",
       "      <th></th>\n",
       "      <th>Label</th>\n",
       "      <th>Open</th>\n",
       "      <th>High</th>\n",
       "      <th>Low</th>\n",
       "      <th>Volume</th>\n",
       "      <th>Subjectivity</th>\n",
       "      <th>Polarity</th>\n",
       "      <th>compound</th>\n",
       "      <th>neg</th>\n",
       "      <th>pos</th>\n",
       "      <th>neu</th>\n",
       "    </tr>\n",
       "  </thead>\n",
       "  <tbody>\n",
       "    <tr>\n",
       "      <th>0</th>\n",
       "      <td>0</td>\n",
       "      <td>11432.089844</td>\n",
       "      <td>11759.959961</td>\n",
       "      <td>11388.040039</td>\n",
       "      <td>212830000</td>\n",
       "      <td>0.267549</td>\n",
       "      <td>-0.048568</td>\n",
       "      <td>-0.9982</td>\n",
       "      <td>0.235</td>\n",
       "      <td>0.041</td>\n",
       "      <td>0.724</td>\n",
       "    </tr>\n",
       "    <tr>\n",
       "      <th>1</th>\n",
       "      <td>1</td>\n",
       "      <td>11729.669922</td>\n",
       "      <td>11867.110352</td>\n",
       "      <td>11675.530273</td>\n",
       "      <td>183190000</td>\n",
       "      <td>0.374806</td>\n",
       "      <td>0.121956</td>\n",
       "      <td>-0.9858</td>\n",
       "      <td>0.191</td>\n",
       "      <td>0.089</td>\n",
       "      <td>0.721</td>\n",
       "    </tr>\n",
       "    <tr>\n",
       "      <th>2</th>\n",
       "      <td>0</td>\n",
       "      <td>11781.700195</td>\n",
       "      <td>11782.349609</td>\n",
       "      <td>11601.519531</td>\n",
       "      <td>173590000</td>\n",
       "      <td>0.536234</td>\n",
       "      <td>-0.044302</td>\n",
       "      <td>-0.9715</td>\n",
       "      <td>0.128</td>\n",
       "      <td>0.056</td>\n",
       "      <td>0.816</td>\n",
       "    </tr>\n",
       "    <tr>\n",
       "      <th>3</th>\n",
       "      <td>0</td>\n",
       "      <td>11632.809570</td>\n",
       "      <td>11633.780273</td>\n",
       "      <td>11453.339844</td>\n",
       "      <td>182550000</td>\n",
       "      <td>0.364021</td>\n",
       "      <td>0.011398</td>\n",
       "      <td>-0.9809</td>\n",
       "      <td>0.146</td>\n",
       "      <td>0.066</td>\n",
       "      <td>0.788</td>\n",
       "    </tr>\n",
       "    <tr>\n",
       "      <th>4</th>\n",
       "      <td>1</td>\n",
       "      <td>11532.070312</td>\n",
       "      <td>11718.280273</td>\n",
       "      <td>11450.889648</td>\n",
       "      <td>159790000</td>\n",
       "      <td>0.375099</td>\n",
       "      <td>0.040677</td>\n",
       "      <td>-0.9882</td>\n",
       "      <td>0.189</td>\n",
       "      <td>0.094</td>\n",
       "      <td>0.717</td>\n",
       "    </tr>\n",
       "    <tr>\n",
       "      <th>...</th>\n",
       "      <td>...</td>\n",
       "      <td>...</td>\n",
       "      <td>...</td>\n",
       "      <td>...</td>\n",
       "      <td>...</td>\n",
       "      <td>...</td>\n",
       "      <td>...</td>\n",
       "      <td>...</td>\n",
       "      <td>...</td>\n",
       "      <td>...</td>\n",
       "      <td>...</td>\n",
       "    </tr>\n",
       "    <tr>\n",
       "      <th>1984</th>\n",
       "      <td>0</td>\n",
       "      <td>17355.210938</td>\n",
       "      <td>17355.210938</td>\n",
       "      <td>17063.080078</td>\n",
       "      <td>138740000</td>\n",
       "      <td>0.352311</td>\n",
       "      <td>-0.014015</td>\n",
       "      <td>-0.9644</td>\n",
       "      <td>0.148</td>\n",
       "      <td>0.094</td>\n",
       "      <td>0.758</td>\n",
       "    </tr>\n",
       "    <tr>\n",
       "      <th>1985</th>\n",
       "      <td>1</td>\n",
       "      <td>17190.509766</td>\n",
       "      <td>17409.720703</td>\n",
       "      <td>17190.509766</td>\n",
       "      <td>112190000</td>\n",
       "      <td>0.352649</td>\n",
       "      <td>0.046560</td>\n",
       "      <td>-0.9571</td>\n",
       "      <td>0.132</td>\n",
       "      <td>0.102</td>\n",
       "      <td>0.767</td>\n",
       "    </tr>\n",
       "    <tr>\n",
       "      <th>1986</th>\n",
       "      <td>1</td>\n",
       "      <td>17456.019531</td>\n",
       "      <td>17704.509766</td>\n",
       "      <td>17456.019531</td>\n",
       "      <td>106380000</td>\n",
       "      <td>0.389617</td>\n",
       "      <td>0.052622</td>\n",
       "      <td>-0.9975</td>\n",
       "      <td>0.225</td>\n",
       "      <td>0.091</td>\n",
       "      <td>0.684</td>\n",
       "    </tr>\n",
       "    <tr>\n",
       "      <th>1987</th>\n",
       "      <td>1</td>\n",
       "      <td>17712.759766</td>\n",
       "      <td>17930.609375</td>\n",
       "      <td>17711.800781</td>\n",
       "      <td>133030000</td>\n",
       "      <td>0.382566</td>\n",
       "      <td>0.011243</td>\n",
       "      <td>-0.9977</td>\n",
       "      <td>0.202</td>\n",
       "      <td>0.061</td>\n",
       "      <td>0.738</td>\n",
       "    </tr>\n",
       "    <tr>\n",
       "      <th>1988</th>\n",
       "      <td>1</td>\n",
       "      <td>17924.240234</td>\n",
       "      <td>18002.380859</td>\n",
       "      <td>17916.910156</td>\n",
       "      <td>82160000</td>\n",
       "      <td>0.320261</td>\n",
       "      <td>-0.035458</td>\n",
       "      <td>-0.9983</td>\n",
       "      <td>0.212</td>\n",
       "      <td>0.059</td>\n",
       "      <td>0.729</td>\n",
       "    </tr>\n",
       "  </tbody>\n",
       "</table>\n",
       "<p>1989 rows × 11 columns</p>\n",
       "</div>"
      ],
      "text/plain": [
       "      Label          Open          High           Low     Volume  \\\n",
       "0         0  11432.089844  11759.959961  11388.040039  212830000   \n",
       "1         1  11729.669922  11867.110352  11675.530273  183190000   \n",
       "2         0  11781.700195  11782.349609  11601.519531  173590000   \n",
       "3         0  11632.809570  11633.780273  11453.339844  182550000   \n",
       "4         1  11532.070312  11718.280273  11450.889648  159790000   \n",
       "...     ...           ...           ...           ...        ...   \n",
       "1984      0  17355.210938  17355.210938  17063.080078  138740000   \n",
       "1985      1  17190.509766  17409.720703  17190.509766  112190000   \n",
       "1986      1  17456.019531  17704.509766  17456.019531  106380000   \n",
       "1987      1  17712.759766  17930.609375  17711.800781  133030000   \n",
       "1988      1  17924.240234  18002.380859  17916.910156   82160000   \n",
       "\n",
       "      Subjectivity  Polarity  compound    neg    pos    neu  \n",
       "0         0.267549 -0.048568   -0.9982  0.235  0.041  0.724  \n",
       "1         0.374806  0.121956   -0.9858  0.191  0.089  0.721  \n",
       "2         0.536234 -0.044302   -0.9715  0.128  0.056  0.816  \n",
       "3         0.364021  0.011398   -0.9809  0.146  0.066  0.788  \n",
       "4         0.375099  0.040677   -0.9882  0.189  0.094  0.717  \n",
       "...            ...       ...       ...    ...    ...    ...  \n",
       "1984      0.352311 -0.014015   -0.9644  0.148  0.094  0.758  \n",
       "1985      0.352649  0.046560   -0.9571  0.132  0.102  0.767  \n",
       "1986      0.389617  0.052622   -0.9975  0.225  0.091  0.684  \n",
       "1987      0.382566  0.011243   -0.9977  0.202  0.061  0.738  \n",
       "1988      0.320261 -0.035458   -0.9983  0.212  0.059  0.729  \n",
       "\n",
       "[1989 rows x 11 columns]"
      ]
     },
     "execution_count": 18,
     "metadata": {},
     "output_type": "execute_result"
    }
   ],
   "source": [
    "df = merge[['Label','Open', 'High', 'Low','Volume','Subjectivity','Polarity','compound','neg','pos','neu']]\n",
    "df"
   ]
  },
  {
   "cell_type": "code",
   "execution_count": 32,
   "id": "3f691196",
   "metadata": {
    "execution": {
     "iopub.execute_input": "2024-02-18T02:40:27.757672Z",
     "iopub.status.busy": "2024-02-18T02:40:27.757230Z",
     "iopub.status.idle": "2024-02-18T02:40:27.767743Z",
     "shell.execute_reply": "2024-02-18T02:40:27.765175Z"
    },
    "papermill": {
     "duration": 0.033117,
     "end_time": "2024-02-18T02:40:27.770903",
     "exception": false,
     "start_time": "2024-02-18T02:40:27.737786",
     "status": "completed"
    },
    "tags": []
   },
   "outputs": [],
   "source": [
    "X = df\n",
    "X = np.array(X.drop(['Label'], axis=1))\n",
    "y = np.array(df['Label'])\n",
    "x_train, x_test, y_train, y_test= train_test_split(X,y, test_size=0.1, random_state=0)"
   ]
  },
  {
   "cell_type": "markdown",
   "id": "a2e2abfe",
   "metadata": {
    "papermill": {
     "duration": 0.018163,
     "end_time": "2024-02-18T02:40:27.808059",
     "exception": false,
     "start_time": "2024-02-18T02:40:27.789896",
     "status": "completed"
    },
    "tags": []
   },
   "source": [
    "## Linear Discriminant Analysis"
   ]
  },
  {
   "cell_type": "code",
   "execution_count": 33,
   "id": "82abc417",
   "metadata": {
    "execution": {
     "iopub.execute_input": "2024-02-18T02:40:27.839750Z",
     "iopub.status.busy": "2024-02-18T02:40:27.839284Z",
     "iopub.status.idle": "2024-02-18T02:40:27.862961Z",
     "shell.execute_reply": "2024-02-18T02:40:27.861587Z"
    },
    "papermill": {
     "duration": 0.043193,
     "end_time": "2024-02-18T02:40:27.866574",
     "exception": false,
     "start_time": "2024-02-18T02:40:27.823381",
     "status": "completed"
    },
    "tags": []
   },
   "outputs": [],
   "source": [
    "LDA_model = LinearDiscriminantAnalysis().fit(x_train, y_train)"
   ]
  },
  {
   "cell_type": "code",
   "execution_count": 34,
   "id": "bf3ae8c7",
   "metadata": {
    "execution": {
     "iopub.execute_input": "2024-02-18T02:40:27.923348Z",
     "iopub.status.busy": "2024-02-18T02:40:27.922109Z",
     "iopub.status.idle": "2024-02-18T02:40:27.928770Z",
     "shell.execute_reply": "2024-02-18T02:40:27.927627Z"
    },
    "papermill": {
     "duration": 0.038327,
     "end_time": "2024-02-18T02:40:27.931788",
     "exception": false,
     "start_time": "2024-02-18T02:40:27.893461",
     "status": "completed"
    },
    "tags": []
   },
   "outputs": [],
   "source": [
    "LDA_predict = LDA_model.predict(x_test)"
   ]
  },
  {
   "cell_type": "code",
   "execution_count": 35,
   "id": "232815ae",
   "metadata": {
    "execution": {
     "iopub.execute_input": "2024-02-18T02:40:27.982767Z",
     "iopub.status.busy": "2024-02-18T02:40:27.982007Z",
     "iopub.status.idle": "2024-02-18T02:40:28.271467Z",
     "shell.execute_reply": "2024-02-18T02:40:28.270240Z"
    },
    "papermill": {
     "duration": 0.315917,
     "end_time": "2024-02-18T02:40:28.274150",
     "exception": false,
     "start_time": "2024-02-18T02:40:27.958233",
     "status": "completed"
    },
    "tags": []
   },
   "outputs": [
    {
     "data": {
      "text/plain": [
       "<AxesSubplot:title={'center':'Linear Discriminant Analysis'}, xlabel='Predicted label', ylabel='True label'>"
      ]
     },
     "execution_count": 35,
     "metadata": {},
     "output_type": "execute_result"
    },
    {
     "data": {
      "image/png": "[encoded data removed]",
      "text/plain": [
       "<Figure size 432x288 with 2 Axes>"
      ]
     },
     "metadata": {
      "needs_background": "light"
     },
     "output_type": "display_data"
    }
   ],
   "source": [
    "plot_confusion_matrix(y_test, LDA_predict, title=\"Linear Discriminant Analysis\")"
   ]
  },
  {
   "cell_type": "code",
   "execution_count": 36,
   "id": "eff863ef",
   "metadata": {
    "execution": {
     "iopub.execute_input": "2024-02-18T02:40:28.306647Z",
     "iopub.status.busy": "2024-02-18T02:40:28.306171Z",
     "iopub.status.idle": "2024-02-18T02:40:28.321315Z",
     "shell.execute_reply": "2024-02-18T02:40:28.320114Z"
    },
    "papermill": {
     "duration": 0.033851,
     "end_time": "2024-02-18T02:40:28.323534",
     "exception": false,
     "start_time": "2024-02-18T02:40:28.289683",
     "status": "completed"
    },
    "tags": []
   },
   "outputs": [
    {
     "name": "stdout",
     "output_type": "stream",
     "text": [
      "              precision    recall  f1-score   support\n",
      "\n",
      "           0       0.88      0.79      0.83       104\n",
      "           1       0.79      0.88      0.84        95\n",
      "\n",
      "    accuracy                           0.83       199\n",
      "   macro avg       0.84      0.84      0.83       199\n",
      "weighted avg       0.84      0.83      0.83       199\n",
      "\n"
     ]
    }
   ],
   "source": [
    "print(classification_report(y_test, LDA_predict))"
   ]
  },
  {
   "cell_type": "markdown",
   "id": "d4b15301",
   "metadata": {
    "papermill": {
     "duration": 0.014381,
     "end_time": "2024-02-18T02:40:28.352865",
     "exception": false,
     "start_time": "2024-02-18T02:40:28.338484",
     "status": "completed"
    },
    "tags": []
   },
   "source": [
    "## Random Forest Classifier"
   ]
  },
  {
   "cell_type": "code",
   "execution_count": 37,
   "id": "8fe49365",
   "metadata": {
    "execution": {
     "iopub.execute_input": "2024-02-18T02:40:28.462847Z",
     "iopub.status.busy": "2024-02-18T02:40:28.462409Z",
     "iopub.status.idle": "2024-02-18T02:40:44.933239Z",
     "shell.execute_reply": "2024-02-18T02:40:44.932195Z"
    },
    "papermill": {
     "duration": 16.56841,
     "end_time": "2024-02-18T02:40:44.936046",
     "exception": false,
     "start_time": "2024-02-18T02:40:28.367636",
     "status": "completed"
    },
    "tags": []
   },
   "outputs": [],
   "source": [
    "model_params = {\n",
    "    'max_depth': [3, 4, 5, 6],\n",
    "    'min_samples_leaf': [0.04, 0.06, 0.08],\n",
    "    'max_features': [0.2, 0.4, 0.6, 0.8]\n",
    "}\n",
    "\n",
    "RFC_model = RandomizedSearchCV(RandomForestClassifier(), model_params, n_iter=10, cv=5, random_state=1).fit(x_train, y_train)"
   ]
  },
  {
   "cell_type": "code",
   "execution_count": 38,
   "id": "cd4748bf",
   "metadata": {
    "execution": {
     "iopub.execute_input": "2024-02-18T02:40:44.968185Z",
     "iopub.status.busy": "2024-02-18T02:40:44.967762Z",
     "iopub.status.idle": "2024-02-18T02:40:44.981693Z",
     "shell.execute_reply": "2024-02-18T02:40:44.980385Z"
    },
    "papermill": {
     "duration": 0.033248,
     "end_time": "2024-02-18T02:40:44.984419",
     "exception": false,
     "start_time": "2024-02-18T02:40:44.951171",
     "status": "completed"
    },
    "tags": []
   },
   "outputs": [],
   "source": [
    "RFC_predict = RFC_model.predict(x_test)"
   ]
  },
  {
   "cell_type": "code",
   "execution_count": 39,
   "id": "8a7dd1f1",
   "metadata": {
    "execution": {
     "iopub.execute_input": "2024-02-18T02:40:45.016739Z",
     "iopub.status.busy": "2024-02-18T02:40:45.016281Z",
     "iopub.status.idle": "2024-02-18T02:40:45.268505Z",
     "shell.execute_reply": "2024-02-18T02:40:45.267270Z"
    },
    "papermill": {
     "duration": 0.271259,
     "end_time": "2024-02-18T02:40:45.271052",
     "exception": false,
     "start_time": "2024-02-18T02:40:44.999793",
     "status": "completed"
    },
    "tags": []
   },
   "outputs": [
    {
     "data": {
      "text/plain": [
       "<AxesSubplot:title={'center':'Random Forest Classifier'}, xlabel='Predicted label', ylabel='True label'>"
      ]
     },
     "execution_count": 39,
     "metadata": {},
     "output_type": "execute_result"
    },
    {
     "data": {
      "image/png": "[encoded data removed]",
      "text/plain": [
       "<Figure size 432x288 with 2 Axes>"
      ]
     },
     "metadata": {
      "needs_background": "light"
     },
     "output_type": "display_data"
    }
   ],
   "source": [
    "plot_confusion_matrix(y_test, RFC_predict, title=\"Random Forest Classifier\")"
   ]
  },
  {
   "cell_type": "code",
   "execution_count": 40,
   "id": "c558c370",
   "metadata": {
    "execution": {
     "iopub.execute_input": "2024-02-18T02:40:45.304380Z",
     "iopub.status.busy": "2024-02-18T02:40:45.303497Z",
     "iopub.status.idle": "2024-02-18T02:40:45.317331Z",
     "shell.execute_reply": "2024-02-18T02:40:45.316116Z"
    },
    "papermill": {
     "duration": 0.032939,
     "end_time": "2024-02-18T02:40:45.319662",
     "exception": false,
     "start_time": "2024-02-18T02:40:45.286723",
     "status": "completed"
    },
    "tags": []
   },
   "outputs": [
    {
     "name": "stdout",
     "output_type": "stream",
     "text": [
      "              precision    recall  f1-score   support\n",
      "\n",
      "           0       0.59      0.23      0.33       104\n",
      "           1       0.49      0.82      0.62        95\n",
      "\n",
      "    accuracy                           0.51       199\n",
      "   macro avg       0.54      0.53      0.47       199\n",
      "weighted avg       0.54      0.51      0.47       199\n",
      "\n"
     ]
    }
   ],
   "source": [
    "print(classification_report(y_test, RFC_predict))"
   ]
  },
  {
   "cell_type": "markdown",
   "id": "a6296fc0",
   "metadata": {
    "papermill": {
     "duration": 0.016278,
     "end_time": "2024-02-18T02:40:45.352127",
     "exception": false,
     "start_time": "2024-02-18T02:40:45.335849",
     "status": "completed"
    },
    "tags": []
   },
   "source": [
    "## Multilayer Perceptron"
   ]
  },
  {
   "cell_type": "code",
   "execution_count": 41,
   "id": "dfbdb6b2",
   "metadata": {
    "execution": {
     "iopub.execute_input": "2024-02-18T02:40:45.387405Z",
     "iopub.status.busy": "2024-02-18T02:40:45.386899Z",
     "iopub.status.idle": "2024-02-18T02:40:45.392420Z",
     "shell.execute_reply": "2024-02-18T02:40:45.391286Z"
    },
    "papermill": {
     "duration": 0.02548,
     "end_time": "2024-02-18T02:40:45.394589",
     "exception": false,
     "start_time": "2024-02-18T02:40:45.369109",
     "status": "completed"
    },
    "tags": []
   },
   "outputs": [],
   "source": [
    "tf.random.set_seed(0)"
   ]
  },
  {
   "cell_type": "code",
   "execution_count": 42,
   "id": "a126b7d5",
   "metadata": {
    "execution": {
     "iopub.execute_input": "2024-02-18T02:40:45.428781Z",
     "iopub.status.busy": "2024-02-18T02:40:45.428318Z",
     "iopub.status.idle": "2024-02-18T02:40:46.006366Z",
     "shell.execute_reply": "2024-02-18T02:40:46.004994Z"
    },
    "papermill": {
     "duration": 0.602944,
     "end_time": "2024-02-18T02:40:46.013728",
     "exception": false,
     "start_time": "2024-02-18T02:40:45.410784",
     "status": "completed"
    },
    "tags": []
   },
   "outputs": [
    {
     "name": "stdout",
     "output_type": "stream",
     "text": [
      "Model: \"sequential_1\"\n",
      "_________________________________________________________________\n",
      " Layer (type)                Output Shape              Param #   \n",
      "=================================================================\n",
      " batch_normalization_1 (Bat  (None, 10)                40        \n",
      " chNormalization)                                                \n",
      "                                                                 \n",
      " dense_5 (Dense)             (None, 256)               2816      \n",
      "                                                                 \n",
      " dropout_4 (Dropout)         (None, 256)               0         \n",
      "                                                                 \n",
      " dense_6 (Dense)             (None, 128)               32896     \n",
      "                                                                 \n",
      " dropout_5 (Dropout)         (None, 128)               0         \n",
      "                                                                 \n",
      " dense_7 (Dense)             (None, 64)                8256      \n",
      "                                                                 \n",
      " dropout_6 (Dropout)         (None, 64)                0         \n",
      "                                                                 \n",
      " dense_8 (Dense)             (None, 32)                2080      \n",
      "                                                                 \n",
      " dropout_7 (Dropout)         (None, 32)                0         \n",
      "                                                                 \n",
      " dense_9 (Dense)             (None, 1)                 33        \n",
      "                                                                 \n",
      "=================================================================\n",
      "Total params: 46121 (180.16 KB)\n",
      "Trainable params: 46101 (180.08 KB)\n",
      "Non-trainable params: 20 (80.00 Byte)\n",
      "_________________________________________________________________\n"
     ]
    }
   ],
   "source": [
    "MLP_model = tf.keras.Sequential([\n",
    "    layers.InputLayer(input_shape=10),\n",
    "    layers.BatchNormalization(),  # Batch normalization layer for input normalization\n",
    "    layers.Dense(256, activation='relu'),\n",
    "    layers.Dropout(0.35),\n",
    "    layers.Dense(128, activation='relu'),\n",
    "    layers.Dropout(0.3),\n",
    "    layers.Dense(64, activation='relu'),\n",
    "    layers.Dropout(0.3),\n",
    "    layers.Dense(32, activation='relu'),\n",
    "    layers.Dropout(0.2),\n",
    "    layers.Dense(1, activation='sigmoid')  # Output layer with sigmoid activation for binary classification\n",
    "])\n",
    "\n",
    "MLP_model.compile(optimizer='adam', loss='binary_crossentropy', metrics='accuracy')\n",
    "\n",
    "MLP_model.summary()"
   ]
  },
  {
   "cell_type": "code",
   "execution_count": 43,
   "id": "498f1baa",
   "metadata": {
    "execution": {
     "iopub.execute_input": "2024-02-18T02:40:46.051137Z",
     "iopub.status.busy": "2024-02-18T02:40:46.050689Z",
     "iopub.status.idle": "2024-02-18T02:41:06.516151Z",
     "shell.execute_reply": "2024-02-18T02:41:06.514987Z"
    },
    "papermill": {
     "duration": 20.487498,
     "end_time": "2024-02-18T02:41:06.518791",
     "exception": false,
     "start_time": "2024-02-18T02:40:46.031293",
     "status": "completed"
    },
    "tags": []
   },
   "outputs": [
    {
     "name": "stdout",
     "output_type": "stream",
     "text": [
      "Epoch 1/50\n",
      "112/112 [==============================] - 3s 10ms/step - loss: 0.6960 - accuracy: 0.5101 - val_loss: 0.6953 - val_accuracy: 0.4824\n",
      "Epoch 2/50\n",
      "112/112 [==============================] - 1s 6ms/step - loss: 0.6922 - accuracy: 0.5391 - val_loss: 0.6917 - val_accuracy: 0.5276\n",
      "Epoch 3/50\n",
      "112/112 [==============================] - 1s 6ms/step - loss: 0.6909 - accuracy: 0.5291 - val_loss: 0.6909 - val_accuracy: 0.5075\n",
      "Epoch 4/50\n",
      "112/112 [==============================] - 1s 6ms/step - loss: 0.6933 - accuracy: 0.5274 - val_loss: 0.6949 - val_accuracy: 0.4925\n",
      "Epoch 5/50\n",
      "112/112 [==============================] - 1s 6ms/step - loss: 0.6909 - accuracy: 0.5436 - val_loss: 0.6982 - val_accuracy: 0.4874\n",
      "Epoch 6/50\n",
      "112/112 [==============================] - 1s 6ms/step - loss: 0.6903 - accuracy: 0.5391 - val_loss: 0.6941 - val_accuracy: 0.4975\n",
      "Epoch 7/50\n",
      "112/112 [==============================] - 1s 6ms/step - loss: 0.6898 - accuracy: 0.5330 - val_loss: 0.6960 - val_accuracy: 0.4774\n",
      "Epoch 8/50\n",
      "112/112 [==============================] - 1s 7ms/step - loss: 0.6885 - accuracy: 0.5458 - val_loss: 0.6935 - val_accuracy: 0.4975\n",
      "Epoch 9/50\n",
      "112/112 [==============================] - 1s 6ms/step - loss: 0.6865 - accuracy: 0.5458 - val_loss: 0.6957 - val_accuracy: 0.4824\n",
      "Epoch 10/50\n",
      "112/112 [==============================] - 1s 6ms/step - loss: 0.6906 - accuracy: 0.5536 - val_loss: 0.6961 - val_accuracy: 0.4925\n",
      "Epoch 11/50\n",
      "112/112 [==============================] - 1s 6ms/step - loss: 0.6892 - accuracy: 0.5358 - val_loss: 0.6958 - val_accuracy: 0.5025\n",
      "Epoch 12/50\n",
      "112/112 [==============================] - 1s 6ms/step - loss: 0.6898 - accuracy: 0.5346 - val_loss: 0.6983 - val_accuracy: 0.4774\n",
      "Epoch 13/50\n",
      "112/112 [==============================] - 1s 6ms/step - loss: 0.6872 - accuracy: 0.5547 - val_loss: 0.6994 - val_accuracy: 0.4724\n",
      "Epoch 14/50\n",
      "112/112 [==============================] - 1s 6ms/step - loss: 0.6893 - accuracy: 0.5413 - val_loss: 0.6990 - val_accuracy: 0.4724\n",
      "Epoch 15/50\n",
      "112/112 [==============================] - 1s 6ms/step - loss: 0.6842 - accuracy: 0.5553 - val_loss: 0.6980 - val_accuracy: 0.4925\n",
      "Epoch 16/50\n",
      "112/112 [==============================] - 1s 6ms/step - loss: 0.6867 - accuracy: 0.5447 - val_loss: 0.6970 - val_accuracy: 0.4874\n",
      "Epoch 17/50\n",
      "112/112 [==============================] - 1s 6ms/step - loss: 0.6877 - accuracy: 0.5531 - val_loss: 0.7015 - val_accuracy: 0.4874\n",
      "Epoch 18/50\n",
      "112/112 [==============================] - 1s 6ms/step - loss: 0.6854 - accuracy: 0.5486 - val_loss: 0.7018 - val_accuracy: 0.4975\n",
      "Epoch 19/50\n",
      "112/112 [==============================] - 1s 6ms/step - loss: 0.6875 - accuracy: 0.5536 - val_loss: 0.7036 - val_accuracy: 0.4824\n",
      "Epoch 20/50\n",
      "112/112 [==============================] - 1s 6ms/step - loss: 0.6830 - accuracy: 0.5598 - val_loss: 0.7039 - val_accuracy: 0.5126\n",
      "Epoch 21/50\n",
      "112/112 [==============================] - 1s 6ms/step - loss: 0.6866 - accuracy: 0.5531 - val_loss: 0.6945 - val_accuracy: 0.5075\n",
      "Epoch 22/50\n",
      "112/112 [==============================] - 1s 6ms/step - loss: 0.6858 - accuracy: 0.5559 - val_loss: 0.7017 - val_accuracy: 0.4925\n",
      "Epoch 23/50\n",
      "112/112 [==============================] - 1s 6ms/step - loss: 0.6841 - accuracy: 0.5447 - val_loss: 0.6982 - val_accuracy: 0.4975\n",
      "Epoch 24/50\n",
      "112/112 [==============================] - 1s 6ms/step - loss: 0.6858 - accuracy: 0.5547 - val_loss: 0.7033 - val_accuracy: 0.4874\n",
      "Epoch 25/50\n",
      "112/112 [==============================] - 1s 6ms/step - loss: 0.6860 - accuracy: 0.5464 - val_loss: 0.7016 - val_accuracy: 0.4874\n",
      "Epoch 26/50\n",
      "112/112 [==============================] - 1s 6ms/step - loss: 0.6841 - accuracy: 0.5603 - val_loss: 0.6957 - val_accuracy: 0.4874\n",
      "Epoch 27/50\n",
      "112/112 [==============================] - 1s 6ms/step - loss: 0.6832 - accuracy: 0.5654 - val_loss: 0.6975 - val_accuracy: 0.4925\n",
      "Epoch 28/50\n",
      "112/112 [==============================] - 1s 6ms/step - loss: 0.6806 - accuracy: 0.5665 - val_loss: 0.7027 - val_accuracy: 0.4824\n",
      "Epoch 29/50\n",
      "112/112 [==============================] - 1s 7ms/step - loss: 0.6832 - accuracy: 0.5453 - val_loss: 0.7024 - val_accuracy: 0.4724\n",
      "Epoch 30/50\n",
      "112/112 [==============================] - 1s 7ms/step - loss: 0.6849 - accuracy: 0.5665 - val_loss: 0.6989 - val_accuracy: 0.4824\n",
      "Epoch 31/50\n",
      "112/112 [==============================] - 1s 6ms/step - loss: 0.6824 - accuracy: 0.5665 - val_loss: 0.7033 - val_accuracy: 0.4874\n",
      "Epoch 32/50\n",
      "112/112 [==============================] - 1s 6ms/step - loss: 0.6827 - accuracy: 0.5497 - val_loss: 0.7075 - val_accuracy: 0.4824\n",
      "Epoch 33/50\n",
      "112/112 [==============================] - 1s 6ms/step - loss: 0.6805 - accuracy: 0.5598 - val_loss: 0.6932 - val_accuracy: 0.4824\n",
      "Epoch 34/50\n",
      "112/112 [==============================] - 1s 6ms/step - loss: 0.6837 - accuracy: 0.5520 - val_loss: 0.6974 - val_accuracy: 0.4573\n",
      "Epoch 35/50\n",
      "112/112 [==============================] - 1s 6ms/step - loss: 0.6787 - accuracy: 0.5581 - val_loss: 0.7158 - val_accuracy: 0.4824\n",
      "Epoch 36/50\n",
      "112/112 [==============================] - 1s 7ms/step - loss: 0.6822 - accuracy: 0.5659 - val_loss: 0.7072 - val_accuracy: 0.4573\n",
      "Epoch 37/50\n",
      "112/112 [==============================] - 1s 7ms/step - loss: 0.6776 - accuracy: 0.5726 - val_loss: 0.7066 - val_accuracy: 0.4724\n",
      "Epoch 38/50\n",
      "112/112 [==============================] - 1s 6ms/step - loss: 0.6820 - accuracy: 0.5564 - val_loss: 0.7012 - val_accuracy: 0.4824\n",
      "Epoch 39/50\n",
      "112/112 [==============================] - 1s 6ms/step - loss: 0.6833 - accuracy: 0.5709 - val_loss: 0.7085 - val_accuracy: 0.4774\n",
      "Epoch 40/50\n",
      "112/112 [==============================] - 1s 6ms/step - loss: 0.6828 - accuracy: 0.5575 - val_loss: 0.7060 - val_accuracy: 0.4573\n",
      "Epoch 41/50\n",
      "112/112 [==============================] - 1s 6ms/step - loss: 0.6798 - accuracy: 0.5592 - val_loss: 0.7082 - val_accuracy: 0.4774\n",
      "Epoch 42/50\n",
      "112/112 [==============================] - 1s 6ms/step - loss: 0.6800 - accuracy: 0.5559 - val_loss: 0.7024 - val_accuracy: 0.4774\n",
      "Epoch 43/50\n",
      "112/112 [==============================] - 1s 7ms/step - loss: 0.6765 - accuracy: 0.5620 - val_loss: 0.7072 - val_accuracy: 0.4975\n",
      "Epoch 44/50\n",
      "112/112 [==============================] - 1s 7ms/step - loss: 0.6801 - accuracy: 0.5514 - val_loss: 0.7094 - val_accuracy: 0.4523\n",
      "Epoch 45/50\n",
      "112/112 [==============================] - 1s 7ms/step - loss: 0.6729 - accuracy: 0.5765 - val_loss: 0.7025 - val_accuracy: 0.5126\n",
      "Epoch 46/50\n",
      "112/112 [==============================] - 1s 6ms/step - loss: 0.6801 - accuracy: 0.5531 - val_loss: 0.7098 - val_accuracy: 0.4824\n",
      "Epoch 47/50\n",
      "112/112 [==============================] - 1s 6ms/step - loss: 0.6722 - accuracy: 0.5721 - val_loss: 0.7095 - val_accuracy: 0.5176\n",
      "Epoch 48/50\n",
      "112/112 [==============================] - 1s 7ms/step - loss: 0.6791 - accuracy: 0.5570 - val_loss: 0.6992 - val_accuracy: 0.4975\n",
      "Epoch 49/50\n",
      "112/112 [==============================] - 1s 6ms/step - loss: 0.6775 - accuracy: 0.5838 - val_loss: 0.7028 - val_accuracy: 0.4975\n",
      "Epoch 50/50\n",
      "112/112 [==============================] - 1s 6ms/step - loss: 0.6799 - accuracy: 0.5637 - val_loss: 0.6964 - val_accuracy: 0.5025\n"
     ]
    },
    {
     "data": {
      "text/plain": [
       "<keras.src.callbacks.History at 0x26622263f10>"
      ]
     },
     "execution_count": 43,
     "metadata": {},
     "output_type": "execute_result"
    }
   ],
   "source": [
    "MLP_model.fit(x_train, y_train, epochs=50, batch_size=16, validation_data=(x_test, y_test))"
   ]
  },
  {
   "cell_type": "code",
   "execution_count": 44,
   "id": "9596290a",
   "metadata": {
    "execution": {
     "iopub.execute_input": "2024-02-18T02:41:06.617962Z",
     "iopub.status.busy": "2024-02-18T02:41:06.617554Z",
     "iopub.status.idle": "2024-02-18T02:41:06.834735Z",
     "shell.execute_reply": "2024-02-18T02:41:06.833152Z"
    },
    "papermill": {
     "duration": 0.273047,
     "end_time": "2024-02-18T02:41:06.837731",
     "exception": false,
     "start_time": "2024-02-18T02:41:06.564684",
     "status": "completed"
    },
    "tags": []
   },
   "outputs": [
    {
     "name": "stdout",
     "output_type": "stream",
     "text": [
      "7/7 [==============================] - 0s 4ms/step\n"
     ]
    }
   ],
   "source": [
    "pred = MLP_model.predict(x_test)"
   ]
  },
  {
   "cell_type": "code",
   "execution_count": 45,
   "id": "4228add4",
   "metadata": {
    "execution": {
     "iopub.execute_input": "2024-02-18T02:41:06.931665Z",
     "iopub.status.busy": "2024-02-18T02:41:06.931203Z",
     "iopub.status.idle": "2024-02-18T02:41:06.936756Z",
     "shell.execute_reply": "2024-02-18T02:41:06.935621Z"
    },
    "papermill": {
     "duration": 0.054895,
     "end_time": "2024-02-18T02:41:06.939093",
     "exception": false,
     "start_time": "2024-02-18T02:41:06.884198",
     "status": "completed"
    },
    "tags": []
   },
   "outputs": [],
   "source": [
    "MLP_predict = np.where(pred > 0.5, 1, 0)"
   ]
  },
  {
   "cell_type": "code",
   "execution_count": 46,
   "id": "4af4299d",
   "metadata": {
    "execution": {
     "iopub.execute_input": "2024-02-18T02:41:07.033282Z",
     "iopub.status.busy": "2024-02-18T02:41:07.032825Z",
     "iopub.status.idle": "2024-02-18T02:41:07.298327Z",
     "shell.execute_reply": "2024-02-18T02:41:07.296815Z"
    },
    "papermill": {
     "duration": 0.315276,
     "end_time": "2024-02-18T02:41:07.300766",
     "exception": false,
     "start_time": "2024-02-18T02:41:06.985490",
     "status": "completed"
    },
    "tags": []
   },
   "outputs": [
    {
     "data": {
      "text/plain": [
       "<AxesSubplot:title={'center':'Multilayer Perceptron'}, xlabel='Predicted label', ylabel='True label'>"
      ]
     },
     "execution_count": 46,
     "metadata": {},
     "output_type": "execute_result"
    },
    {
     "data": {
      "image/png": "[encoded data removed]",
      "text/plain": [
       "<Figure size 432x288 with 2 Axes>"
      ]
     },
     "metadata": {
      "needs_background": "light"
     },
     "output_type": "display_data"
    }
   ],
   "source": [
    "plot_confusion_matrix(y_test, MLP_predict, title=\"Multilayer Perceptron\")"
   ]
  },
  {
   "cell_type": "code",
   "execution_count": 47,
   "id": "9919c0f9",
   "metadata": {
    "execution": {
     "iopub.execute_input": "2024-02-18T02:41:07.395697Z",
     "iopub.status.busy": "2024-02-18T02:41:07.395224Z",
     "iopub.status.idle": "2024-02-18T02:41:07.408590Z",
     "shell.execute_reply": "2024-02-18T02:41:07.407736Z"
    },
    "papermill": {
     "duration": 0.063887,
     "end_time": "2024-02-18T02:41:07.410713",
     "exception": false,
     "start_time": "2024-02-18T02:41:07.346826",
     "status": "completed"
    },
    "tags": []
   },
   "outputs": [
    {
     "name": "stdout",
     "output_type": "stream",
     "text": [
      "              precision    recall  f1-score   support\n",
      "\n",
      "           0       0.56      0.22      0.32       104\n",
      "           1       0.49      0.81      0.61        95\n",
      "\n",
      "    accuracy                           0.50       199\n",
      "   macro avg       0.52      0.52      0.46       199\n",
      "weighted avg       0.53      0.50      0.46       199\n",
      "\n"
     ]
    }
   ],
   "source": [
    "print(classification_report(y_test, MLP_predict))"
   ]
  },
  {
   "cell_type": "markdown",
   "id": "f8701303",
   "metadata": {
    "papermill": {
     "duration": 0.047555,
     "end_time": "2024-02-18T02:41:07.503777",
     "exception": false,
     "start_time": "2024-02-18T02:41:07.456222",
     "status": "completed"
    },
    "tags": []
   },
   "source": [
    "## Multilayer Perceptron with Windows\n",
    "\n",
    "Basically, the last n days of data are provided per sample"
   ]
  },
  {
   "cell_type": "code",
   "execution_count": 48,
   "id": "3c3da37b",
   "metadata": {
    "execution": {
     "iopub.execute_input": "2024-02-18T02:41:07.598973Z",
     "iopub.status.busy": "2024-02-18T02:41:07.598145Z",
     "iopub.status.idle": "2024-02-18T02:41:07.605230Z",
     "shell.execute_reply": "2024-02-18T02:41:07.604332Z"
    },
    "papermill": {
     "duration": 0.056648,
     "end_time": "2024-02-18T02:41:07.608125",
     "exception": false,
     "start_time": "2024-02-18T02:41:07.551477",
     "status": "completed"
    },
    "tags": []
   },
   "outputs": [],
   "source": [
    "# the past window_size samples are included in each data sample\n",
    "def reshape_data(df, window_size):\n",
    "    reshaped_data = []\n",
    "    for i in range(len(df) - window_size + 1):\n",
    "        window = df.iloc[i:i+window_size].values.flatten()\n",
    "        reshaped_data.append(window)\n",
    "    return np.array(reshaped_data)"
   ]
  },
  {
   "cell_type": "code",
   "execution_count": 49,
   "id": "1e4d4f2d",
   "metadata": {
    "execution": {
     "iopub.execute_input": "2024-02-18T02:41:07.705310Z",
     "iopub.status.busy": "2024-02-18T02:41:07.704787Z",
     "iopub.status.idle": "2024-02-18T02:41:07.912404Z",
     "shell.execute_reply": "2024-02-18T02:41:07.911326Z"
    },
    "papermill": {
     "duration": 0.258771,
     "end_time": "2024-02-18T02:41:07.914903",
     "exception": false,
     "start_time": "2024-02-18T02:41:07.656132",
     "status": "completed"
    },
    "tags": []
   },
   "outputs": [
    {
     "data": {
      "text/plain": [
       "((1985, 50), (1985,))"
      ]
     },
     "execution_count": 49,
     "metadata": {},
     "output_type": "execute_result"
    }
   ],
   "source": [
    "window_size = 5\n",
    "X_c = reshape_data(df.drop(['Label'], axis=1), window_size)\n",
    "y_c = np.array(df['Label'])[window_size - 1:]\n",
    "\n",
    "X_c.shape, y_c.shape"
   ]
  },
  {
   "cell_type": "code",
   "execution_count": 50,
   "id": "42bab204",
   "metadata": {
    "execution": {
     "iopub.execute_input": "2024-02-18T02:41:08.008652Z",
     "iopub.status.busy": "2024-02-18T02:41:08.008177Z",
     "iopub.status.idle": "2024-02-18T02:41:08.014573Z",
     "shell.execute_reply": "2024-02-18T02:41:08.013558Z"
    },
    "papermill": {
     "duration": 0.05585,
     "end_time": "2024-02-18T02:41:08.016702",
     "exception": false,
     "start_time": "2024-02-18T02:41:07.960852",
     "status": "completed"
    },
    "tags": []
   },
   "outputs": [],
   "source": [
    "x_train_c, x_test_c, y_train_c, y_test_c = train_test_split(X_c, y_c, test_size=0.1, random_state=0)"
   ]
  },
  {
   "cell_type": "code",
   "execution_count": 51,
   "id": "92f16eea",
   "metadata": {
    "execution": {
     "iopub.execute_input": "2024-02-18T02:41:08.110677Z",
     "iopub.status.busy": "2024-02-18T02:41:08.109580Z",
     "iopub.status.idle": "2024-02-18T02:41:08.271166Z",
     "shell.execute_reply": "2024-02-18T02:41:08.269978Z"
    },
    "papermill": {
     "duration": 0.220193,
     "end_time": "2024-02-18T02:41:08.282852",
     "exception": false,
     "start_time": "2024-02-18T02:41:08.062659",
     "status": "completed"
    },
    "tags": []
   },
   "outputs": [
    {
     "name": "stdout",
     "output_type": "stream",
     "text": [
      "Model: \"sequential_2\"\n",
      "_________________________________________________________________\n",
      " Layer (type)                Output Shape              Param #   \n",
      "=================================================================\n",
      " batch_normalization_2 (Bat  (None, 50)                200       \n",
      " chNormalization)                                                \n",
      "                                                                 \n",
      " dense_10 (Dense)            (None, 256)               13056     \n",
      "                                                                 \n",
      " dropout_8 (Dropout)         (None, 256)               0         \n",
      "                                                                 \n",
      " dense_11 (Dense)            (None, 128)               32896     \n",
      "                                                                 \n",
      " dropout_9 (Dropout)         (None, 128)               0         \n",
      "                                                                 \n",
      " dense_12 (Dense)            (None, 64)                8256      \n",
      "                                                                 \n",
      " dropout_10 (Dropout)        (None, 64)                0         \n",
      "                                                                 \n",
      " dense_13 (Dense)            (None, 32)                2080      \n",
      "                                                                 \n",
      " dropout_11 (Dropout)        (None, 32)                0         \n",
      "                                                                 \n",
      " dense_14 (Dense)            (None, 1)                 33        \n",
      "                                                                 \n",
      "=================================================================\n",
      "Total params: 56521 (220.79 KB)\n",
      "Trainable params: 56421 (220.39 KB)\n",
      "Non-trainable params: 100 (400.00 Byte)\n",
      "_________________________________________________________________\n"
     ]
    }
   ],
   "source": [
    "MLPC_model = tf.keras.Sequential([\n",
    "    layers.InputLayer(input_shape=10*window_size),\n",
    "    layers.BatchNormalization(),  # Batch normalization layer for input normalization\n",
    "    layers.Dense(256, activation='relu'),\n",
    "    layers.Dropout(0.35),\n",
    "    layers.Dense(128, activation='relu'),\n",
    "    layers.Dropout(0.3),\n",
    "    layers.Dense(64, activation='relu'),\n",
    "    layers.Dropout(0.3),\n",
    "    layers.Dense(32, activation='relu'),\n",
    "    layers.Dropout(0.2),\n",
    "    layers.Dense(1, activation='sigmoid')  # Output layer with sigmoid activation for binary classification\n",
    "])\n",
    "\n",
    "MLPC_model.compile(optimizer='adam', loss='binary_crossentropy', metrics='accuracy')\n",
    "\n",
    "MLPC_model.summary()"
   ]
  },
  {
   "cell_type": "code",
   "execution_count": 52,
   "id": "1946d8fa",
   "metadata": {
    "execution": {
     "iopub.execute_input": "2024-02-18T02:41:08.380163Z",
     "iopub.status.busy": "2024-02-18T02:41:08.379270Z",
     "iopub.status.idle": "2024-02-18T02:41:45.833237Z",
     "shell.execute_reply": "2024-02-18T02:41:45.832337Z"
    },
    "papermill": {
     "duration": 37.505931,
     "end_time": "2024-02-18T02:41:45.835753",
     "exception": false,
     "start_time": "2024-02-18T02:41:08.329822",
     "status": "completed"
    },
    "tags": []
   },
   "outputs": [
    {
     "name": "stdout",
     "output_type": "stream",
     "text": [
      "Epoch 1/100\n",
      "112/112 [==============================] - 3s 9ms/step - loss: 0.7149 - accuracy: 0.5011 - val_loss: 0.7159 - val_accuracy: 0.5578\n",
      "Epoch 2/100\n",
      "112/112 [==============================] - 1s 7ms/step - loss: 0.6986 - accuracy: 0.4983 - val_loss: 0.6913 - val_accuracy: 0.5427\n",
      "Epoch 3/100\n",
      "112/112 [==============================] - 1s 6ms/step - loss: 0.6911 - accuracy: 0.5218 - val_loss: 0.6878 - val_accuracy: 0.5628\n",
      "Epoch 4/100\n",
      "112/112 [==============================] - 1s 6ms/step - loss: 0.6919 - accuracy: 0.5498 - val_loss: 0.6933 - val_accuracy: 0.5729\n",
      "Epoch 5/100\n",
      "112/112 [==============================] - 1s 7ms/step - loss: 0.6886 - accuracy: 0.5386 - val_loss: 0.6960 - val_accuracy: 0.5477\n",
      "Epoch 6/100\n",
      "112/112 [==============================] - 1s 6ms/step - loss: 0.6917 - accuracy: 0.5286 - val_loss: 0.6853 - val_accuracy: 0.5528\n",
      "Epoch 7/100\n",
      "112/112 [==============================] - 1s 6ms/step - loss: 0.6839 - accuracy: 0.5398 - val_loss: 0.6856 - val_accuracy: 0.5126\n",
      "Epoch 8/100\n",
      "112/112 [==============================] - 1s 7ms/step - loss: 0.6839 - accuracy: 0.5409 - val_loss: 0.7015 - val_accuracy: 0.4824\n",
      "Epoch 9/100\n",
      "112/112 [==============================] - 1s 6ms/step - loss: 0.6825 - accuracy: 0.5465 - val_loss: 0.6980 - val_accuracy: 0.5126\n",
      "Epoch 10/100\n",
      "112/112 [==============================] - 1s 6ms/step - loss: 0.6850 - accuracy: 0.5403 - val_loss: 0.6823 - val_accuracy: 0.5276\n",
      "Epoch 11/100\n",
      "112/112 [==============================] - 1s 6ms/step - loss: 0.6742 - accuracy: 0.5521 - val_loss: 0.6907 - val_accuracy: 0.5226\n",
      "Epoch 12/100\n",
      "112/112 [==============================] - 1s 6ms/step - loss: 0.6802 - accuracy: 0.5616 - val_loss: 0.6826 - val_accuracy: 0.5276\n",
      "Epoch 13/100\n",
      "112/112 [==============================] - 1s 7ms/step - loss: 0.6753 - accuracy: 0.5560 - val_loss: 0.6892 - val_accuracy: 0.5025\n",
      "Epoch 14/100\n",
      "112/112 [==============================] - 1s 6ms/step - loss: 0.6708 - accuracy: 0.5689 - val_loss: 0.6897 - val_accuracy: 0.5528\n",
      "Epoch 15/100\n",
      "112/112 [==============================] - 1s 6ms/step - loss: 0.6714 - accuracy: 0.5644 - val_loss: 0.6923 - val_accuracy: 0.5025\n",
      "Epoch 16/100\n",
      "112/112 [==============================] - 1s 6ms/step - loss: 0.6683 - accuracy: 0.5840 - val_loss: 0.6930 - val_accuracy: 0.4774\n",
      "Epoch 17/100\n",
      "112/112 [==============================] - 1s 7ms/step - loss: 0.6643 - accuracy: 0.5834 - val_loss: 0.7047 - val_accuracy: 0.5276\n",
      "Epoch 18/100\n",
      "112/112 [==============================] - 1s 7ms/step - loss: 0.6619 - accuracy: 0.5901 - val_loss: 0.7059 - val_accuracy: 0.5025\n",
      "Epoch 19/100\n",
      "112/112 [==============================] - 1s 7ms/step - loss: 0.6635 - accuracy: 0.5711 - val_loss: 0.6931 - val_accuracy: 0.5628\n",
      "Epoch 20/100\n",
      "112/112 [==============================] - 1s 6ms/step - loss: 0.6532 - accuracy: 0.5941 - val_loss: 0.7091 - val_accuracy: 0.4975\n",
      "Epoch 21/100\n",
      "112/112 [==============================] - 1s 6ms/step - loss: 0.6596 - accuracy: 0.5890 - val_loss: 0.7168 - val_accuracy: 0.4925\n",
      "Epoch 22/100\n",
      "112/112 [==============================] - 1s 7ms/step - loss: 0.6529 - accuracy: 0.6053 - val_loss: 0.6902 - val_accuracy: 0.5678\n",
      "Epoch 23/100\n",
      "112/112 [==============================] - 1s 6ms/step - loss: 0.6432 - accuracy: 0.6209 - val_loss: 0.7012 - val_accuracy: 0.5176\n",
      "Epoch 24/100\n",
      "112/112 [==============================] - 1s 6ms/step - loss: 0.6459 - accuracy: 0.5980 - val_loss: 0.7115 - val_accuracy: 0.5075\n",
      "Epoch 25/100\n",
      "112/112 [==============================] - 1s 7ms/step - loss: 0.6428 - accuracy: 0.6265 - val_loss: 0.7103 - val_accuracy: 0.5126\n",
      "Epoch 26/100\n",
      "112/112 [==============================] - 1s 6ms/step - loss: 0.6391 - accuracy: 0.6103 - val_loss: 0.7434 - val_accuracy: 0.4975\n",
      "Epoch 27/100\n",
      "112/112 [==============================] - 1s 6ms/step - loss: 0.6471 - accuracy: 0.6041 - val_loss: 0.7076 - val_accuracy: 0.5427\n",
      "Epoch 28/100\n",
      "112/112 [==============================] - 1s 6ms/step - loss: 0.6412 - accuracy: 0.6215 - val_loss: 0.7168 - val_accuracy: 0.4975\n",
      "Epoch 29/100\n",
      "112/112 [==============================] - 1s 6ms/step - loss: 0.6316 - accuracy: 0.6333 - val_loss: 0.7346 - val_accuracy: 0.4975\n",
      "Epoch 30/100\n",
      "112/112 [==============================] - 1s 6ms/step - loss: 0.6264 - accuracy: 0.6439 - val_loss: 0.7373 - val_accuracy: 0.5327\n",
      "Epoch 31/100\n",
      "112/112 [==============================] - 1s 6ms/step - loss: 0.6232 - accuracy: 0.6467 - val_loss: 0.7229 - val_accuracy: 0.5327\n",
      "Epoch 32/100\n",
      "112/112 [==============================] - 1s 6ms/step - loss: 0.6184 - accuracy: 0.6506 - val_loss: 0.7359 - val_accuracy: 0.5377\n",
      "Epoch 33/100\n",
      "112/112 [==============================] - 1s 6ms/step - loss: 0.6111 - accuracy: 0.6652 - val_loss: 0.7287 - val_accuracy: 0.5176\n",
      "Epoch 34/100\n",
      "112/112 [==============================] - 1s 6ms/step - loss: 0.6132 - accuracy: 0.6708 - val_loss: 0.7415 - val_accuracy: 0.4874\n",
      "Epoch 35/100\n",
      "112/112 [==============================] - 1s 6ms/step - loss: 0.6162 - accuracy: 0.6333 - val_loss: 0.7358 - val_accuracy: 0.4874\n",
      "Epoch 36/100\n",
      "112/112 [==============================] - 1s 6ms/step - loss: 0.6054 - accuracy: 0.6635 - val_loss: 0.7525 - val_accuracy: 0.4925\n",
      "Epoch 37/100\n",
      "112/112 [==============================] - 1s 6ms/step - loss: 0.5947 - accuracy: 0.6753 - val_loss: 0.7243 - val_accuracy: 0.5327\n",
      "Epoch 38/100\n",
      "112/112 [==============================] - 1s 6ms/step - loss: 0.6091 - accuracy: 0.6478 - val_loss: 0.7213 - val_accuracy: 0.5427\n",
      "Epoch 39/100\n",
      "112/112 [==============================] - 1s 6ms/step - loss: 0.5941 - accuracy: 0.6842 - val_loss: 0.7591 - val_accuracy: 0.4925\n",
      "Epoch 40/100\n",
      "112/112 [==============================] - 1s 6ms/step - loss: 0.5927 - accuracy: 0.6747 - val_loss: 0.7652 - val_accuracy: 0.5075\n",
      "Epoch 41/100\n",
      "112/112 [==============================] - 1s 7ms/step - loss: 0.5741 - accuracy: 0.6926 - val_loss: 0.7803 - val_accuracy: 0.5176\n",
      "Epoch 42/100\n",
      "112/112 [==============================] - 1s 6ms/step - loss: 0.5951 - accuracy: 0.6814 - val_loss: 0.7279 - val_accuracy: 0.5628\n",
      "Epoch 43/100\n",
      "112/112 [==============================] - 1s 6ms/step - loss: 0.5739 - accuracy: 0.6937 - val_loss: 0.7621 - val_accuracy: 0.5327\n",
      "Epoch 44/100\n",
      "112/112 [==============================] - 1s 7ms/step - loss: 0.5681 - accuracy: 0.6831 - val_loss: 0.7542 - val_accuracy: 0.5025\n",
      "Epoch 45/100\n",
      "112/112 [==============================] - 1s 6ms/step - loss: 0.5598 - accuracy: 0.6971 - val_loss: 0.7678 - val_accuracy: 0.4673\n",
      "Epoch 46/100\n",
      "112/112 [==============================] - 1s 6ms/step - loss: 0.5547 - accuracy: 0.7161 - val_loss: 0.7990 - val_accuracy: 0.5377\n",
      "Epoch 47/100\n",
      "112/112 [==============================] - 1s 6ms/step - loss: 0.5547 - accuracy: 0.7100 - val_loss: 0.8010 - val_accuracy: 0.5427\n",
      "Epoch 48/100\n",
      "112/112 [==============================] - 1s 6ms/step - loss: 0.5507 - accuracy: 0.7212 - val_loss: 0.7904 - val_accuracy: 0.5477\n",
      "Epoch 49/100\n",
      "112/112 [==============================] - 1s 6ms/step - loss: 0.5307 - accuracy: 0.7340 - val_loss: 0.7836 - val_accuracy: 0.5528\n",
      "Epoch 50/100\n",
      "112/112 [==============================] - 1s 6ms/step - loss: 0.5511 - accuracy: 0.7105 - val_loss: 0.8183 - val_accuracy: 0.5276\n",
      "Epoch 51/100\n",
      "112/112 [==============================] - 1s 6ms/step - loss: 0.5328 - accuracy: 0.7223 - val_loss: 0.8001 - val_accuracy: 0.5578\n",
      "Epoch 52/100\n",
      "112/112 [==============================] - 1s 6ms/step - loss: 0.5224 - accuracy: 0.7368 - val_loss: 0.8588 - val_accuracy: 0.4673\n",
      "Epoch 53/100\n",
      "112/112 [==============================] - 1s 6ms/step - loss: 0.5344 - accuracy: 0.7206 - val_loss: 0.8274 - val_accuracy: 0.5075\n",
      "Epoch 54/100\n",
      "112/112 [==============================] - 1s 6ms/step - loss: 0.5204 - accuracy: 0.7380 - val_loss: 0.8465 - val_accuracy: 0.5075\n",
      "Epoch 55/100\n",
      "112/112 [==============================] - 1s 6ms/step - loss: 0.5246 - accuracy: 0.7346 - val_loss: 0.7966 - val_accuracy: 0.5276\n",
      "Epoch 56/100\n",
      "112/112 [==============================] - 1s 6ms/step - loss: 0.5009 - accuracy: 0.7385 - val_loss: 0.8629 - val_accuracy: 0.5126\n",
      "Epoch 57/100\n",
      "112/112 [==============================] - 1s 7ms/step - loss: 0.5325 - accuracy: 0.7273 - val_loss: 0.8055 - val_accuracy: 0.4975\n",
      "Epoch 58/100\n",
      "112/112 [==============================] - 1s 7ms/step - loss: 0.5042 - accuracy: 0.7587 - val_loss: 0.8773 - val_accuracy: 0.4975\n",
      "Epoch 59/100\n",
      "112/112 [==============================] - 1s 6ms/step - loss: 0.4943 - accuracy: 0.7587 - val_loss: 0.8846 - val_accuracy: 0.5126\n",
      "Epoch 60/100\n",
      "112/112 [==============================] - 1s 6ms/step - loss: 0.5036 - accuracy: 0.7480 - val_loss: 0.8390 - val_accuracy: 0.5176\n",
      "Epoch 61/100\n",
      "112/112 [==============================] - 1s 7ms/step - loss: 0.4913 - accuracy: 0.7542 - val_loss: 0.8059 - val_accuracy: 0.5226\n",
      "Epoch 62/100\n",
      "112/112 [==============================] - 1s 6ms/step - loss: 0.4856 - accuracy: 0.7704 - val_loss: 0.8510 - val_accuracy: 0.5176\n",
      "Epoch 63/100\n",
      "112/112 [==============================] - 1s 7ms/step - loss: 0.4926 - accuracy: 0.7581 - val_loss: 0.8387 - val_accuracy: 0.5075\n",
      "Epoch 64/100\n",
      "112/112 [==============================] - 1s 6ms/step - loss: 0.4787 - accuracy: 0.7671 - val_loss: 0.8484 - val_accuracy: 0.5276\n",
      "Epoch 65/100\n",
      "112/112 [==============================] - 1s 6ms/step - loss: 0.4683 - accuracy: 0.7777 - val_loss: 0.8540 - val_accuracy: 0.5477\n",
      "Epoch 66/100\n",
      "112/112 [==============================] - 1s 6ms/step - loss: 0.4795 - accuracy: 0.7676 - val_loss: 0.8714 - val_accuracy: 0.5226\n",
      "Epoch 67/100\n",
      "112/112 [==============================] - 1s 6ms/step - loss: 0.4552 - accuracy: 0.7968 - val_loss: 0.8808 - val_accuracy: 0.5427\n",
      "Epoch 68/100\n",
      "112/112 [==============================] - 1s 6ms/step - loss: 0.4768 - accuracy: 0.7626 - val_loss: 0.8383 - val_accuracy: 0.5477\n",
      "Epoch 69/100\n",
      "112/112 [==============================] - 1s 6ms/step - loss: 0.4677 - accuracy: 0.7688 - val_loss: 0.8484 - val_accuracy: 0.5276\n",
      "Epoch 70/100\n",
      "112/112 [==============================] - 1s 6ms/step - loss: 0.4623 - accuracy: 0.7884 - val_loss: 0.8327 - val_accuracy: 0.4975\n",
      "Epoch 71/100\n",
      "112/112 [==============================] - 1s 7ms/step - loss: 0.4784 - accuracy: 0.7699 - val_loss: 0.8491 - val_accuracy: 0.4724\n",
      "Epoch 72/100\n",
      "112/112 [==============================] - 1s 7ms/step - loss: 0.4566 - accuracy: 0.7805 - val_loss: 0.8573 - val_accuracy: 0.5226\n",
      "Epoch 73/100\n",
      "112/112 [==============================] - 1s 6ms/step - loss: 0.4341 - accuracy: 0.7928 - val_loss: 0.9117 - val_accuracy: 0.5628\n",
      "Epoch 74/100\n",
      "112/112 [==============================] - 1s 6ms/step - loss: 0.4294 - accuracy: 0.7956 - val_loss: 0.8805 - val_accuracy: 0.5528\n",
      "Epoch 75/100\n",
      "112/112 [==============================] - 1s 6ms/step - loss: 0.4254 - accuracy: 0.8080 - val_loss: 0.8790 - val_accuracy: 0.5226\n",
      "Epoch 76/100\n",
      "112/112 [==============================] - 1s 7ms/step - loss: 0.4311 - accuracy: 0.7979 - val_loss: 0.8950 - val_accuracy: 0.5477\n",
      "Epoch 77/100\n",
      "112/112 [==============================] - 1s 6ms/step - loss: 0.4142 - accuracy: 0.8113 - val_loss: 0.8576 - val_accuracy: 0.5678\n",
      "Epoch 78/100\n",
      "112/112 [==============================] - 1s 6ms/step - loss: 0.4277 - accuracy: 0.7928 - val_loss: 0.8566 - val_accuracy: 0.5427\n",
      "Epoch 79/100\n",
      "112/112 [==============================] - 1s 6ms/step - loss: 0.4173 - accuracy: 0.8141 - val_loss: 0.9224 - val_accuracy: 0.5226\n",
      "Epoch 80/100\n",
      "112/112 [==============================] - 1s 6ms/step - loss: 0.4310 - accuracy: 0.7912 - val_loss: 0.8612 - val_accuracy: 0.5276\n",
      "Epoch 81/100\n",
      "112/112 [==============================] - 1s 6ms/step - loss: 0.4255 - accuracy: 0.8024 - val_loss: 0.8951 - val_accuracy: 0.5126\n",
      "Epoch 82/100\n",
      "112/112 [==============================] - 1s 7ms/step - loss: 0.4302 - accuracy: 0.7968 - val_loss: 0.8631 - val_accuracy: 0.5377\n",
      "Epoch 83/100\n",
      "112/112 [==============================] - 1s 7ms/step - loss: 0.4218 - accuracy: 0.8007 - val_loss: 0.8707 - val_accuracy: 0.5025\n",
      "Epoch 84/100\n",
      "112/112 [==============================] - 1s 7ms/step - loss: 0.4091 - accuracy: 0.8108 - val_loss: 0.9294 - val_accuracy: 0.4975\n",
      "Epoch 85/100\n",
      "112/112 [==============================] - 1s 7ms/step - loss: 0.3983 - accuracy: 0.8068 - val_loss: 0.9721 - val_accuracy: 0.4925\n",
      "Epoch 86/100\n",
      "112/112 [==============================] - 1s 7ms/step - loss: 0.4110 - accuracy: 0.8108 - val_loss: 0.8636 - val_accuracy: 0.5678\n",
      "Epoch 87/100\n",
      "112/112 [==============================] - 1s 7ms/step - loss: 0.3910 - accuracy: 0.8141 - val_loss: 0.9274 - val_accuracy: 0.5628\n",
      "Epoch 88/100\n",
      "112/112 [==============================] - 1s 6ms/step - loss: 0.3912 - accuracy: 0.8175 - val_loss: 0.9356 - val_accuracy: 0.5025\n",
      "Epoch 89/100\n",
      "112/112 [==============================] - 1s 7ms/step - loss: 0.4091 - accuracy: 0.8080 - val_loss: 0.8832 - val_accuracy: 0.5528\n",
      "Epoch 90/100\n",
      "112/112 [==============================] - 1s 6ms/step - loss: 0.3847 - accuracy: 0.8281 - val_loss: 0.9332 - val_accuracy: 0.5477\n",
      "Epoch 91/100\n",
      "112/112 [==============================] - 1s 7ms/step - loss: 0.4076 - accuracy: 0.8208 - val_loss: 0.9262 - val_accuracy: 0.5025\n",
      "Epoch 92/100\n",
      "112/112 [==============================] - 1s 6ms/step - loss: 0.3939 - accuracy: 0.8203 - val_loss: 0.9236 - val_accuracy: 0.5528\n",
      "Epoch 93/100\n",
      "112/112 [==============================] - 1s 6ms/step - loss: 0.3860 - accuracy: 0.8203 - val_loss: 0.9024 - val_accuracy: 0.5377\n",
      "Epoch 94/100\n",
      "112/112 [==============================] - 1s 6ms/step - loss: 0.3958 - accuracy: 0.8231 - val_loss: 0.9294 - val_accuracy: 0.5025\n",
      "Epoch 95/100\n",
      "112/112 [==============================] - 1s 6ms/step - loss: 0.4139 - accuracy: 0.8074 - val_loss: 0.9018 - val_accuracy: 0.5226\n",
      "Epoch 96/100\n",
      "112/112 [==============================] - 1s 6ms/step - loss: 0.3859 - accuracy: 0.8236 - val_loss: 0.9234 - val_accuracy: 0.5176\n",
      "Epoch 97/100\n",
      "112/112 [==============================] - 1s 6ms/step - loss: 0.3885 - accuracy: 0.8236 - val_loss: 0.9206 - val_accuracy: 0.5327\n",
      "Epoch 98/100\n",
      "112/112 [==============================] - 1s 6ms/step - loss: 0.3790 - accuracy: 0.8348 - val_loss: 0.9764 - val_accuracy: 0.4724\n",
      "Epoch 99/100\n",
      "112/112 [==============================] - 1s 7ms/step - loss: 0.3636 - accuracy: 0.8438 - val_loss: 1.0112 - val_accuracy: 0.5226\n",
      "Epoch 100/100\n",
      "112/112 [==============================] - 1s 6ms/step - loss: 0.3632 - accuracy: 0.8315 - val_loss: 0.9795 - val_accuracy: 0.5226\n"
     ]
    },
    {
     "data": {
      "text/plain": [
       "<keras.src.callbacks.History at 0x26622cba7c0>"
      ]
     },
     "execution_count": 52,
     "metadata": {},
     "output_type": "execute_result"
    }
   ],
   "source": [
    "MLPC_model.fit(x_train_c, y_train_c, epochs=100, batch_size=16, validation_data=(x_test_c, y_test_c))"
   ]
  },
  {
   "cell_type": "code",
   "execution_count": 53,
   "id": "301762a5",
   "metadata": {
    "execution": {
     "iopub.execute_input": "2024-02-18T02:41:46.039516Z",
     "iopub.status.busy": "2024-02-18T02:41:46.038332Z",
     "iopub.status.idle": "2024-02-18T02:41:46.220022Z",
     "shell.execute_reply": "2024-02-18T02:41:46.219027Z"
    },
    "papermill": {
     "duration": 0.286286,
     "end_time": "2024-02-18T02:41:46.222616",
     "exception": false,
     "start_time": "2024-02-18T02:41:45.936330",
     "status": "completed"
    },
    "tags": []
   },
   "outputs": [
    {
     "name": "stdout",
     "output_type": "stream",
     "text": [
      "7/7 [==============================] - 0s 4ms/step\n"
     ]
    }
   ],
   "source": [
    "pred = MLPC_model.predict(x_test_c)"
   ]
  },
  {
   "cell_type": "code",
   "execution_count": 54,
   "id": "d9c86b73",
   "metadata": {
    "execution": {
     "iopub.execute_input": "2024-02-18T02:41:46.428390Z",
     "iopub.status.busy": "2024-02-18T02:41:46.427889Z",
     "iopub.status.idle": "2024-02-18T02:41:46.433546Z",
     "shell.execute_reply": "2024-02-18T02:41:46.432442Z"
    },
    "papermill": {
     "duration": 0.111892,
     "end_time": "2024-02-18T02:41:46.435803",
     "exception": false,
     "start_time": "2024-02-18T02:41:46.323911",
     "status": "completed"
    },
    "tags": []
   },
   "outputs": [],
   "source": [
    "MLPC_predict = np.where(pred > 0.5, 1, 0)"
   ]
  },
  {
   "cell_type": "code",
   "execution_count": 55,
   "id": "24b3ee91",
   "metadata": {
    "execution": {
     "iopub.execute_input": "2024-02-18T02:41:46.641653Z",
     "iopub.status.busy": "2024-02-18T02:41:46.641214Z",
     "iopub.status.idle": "2024-02-18T02:41:46.917854Z",
     "shell.execute_reply": "2024-02-18T02:41:46.916568Z"
    },
    "papermill": {
     "duration": 0.381931,
     "end_time": "2024-02-18T02:41:46.920591",
     "exception": false,
     "start_time": "2024-02-18T02:41:46.538660",
     "status": "completed"
    },
    "tags": []
   },
   "outputs": [
    {
     "data": {
      "text/plain": [
       "<AxesSubplot:title={'center':'Multilayer Perceptron with Windows'}, xlabel='Predicted label', ylabel='True label'>"
      ]
     },
     "execution_count": 55,
     "metadata": {},
     "output_type": "execute_result"
    },
    {
     "data": {
      "image/png": "[encoded data removed]",
      "text/plain": [
       "<Figure size 432x288 with 2 Axes>"
      ]
     },
     "metadata": {
      "needs_background": "light"
     },
     "output_type": "display_data"
    }
   ],
   "source": [
    "plot_confusion_matrix(y_test_c, MLPC_predict, title=\"Multilayer Perceptron with Windows\")"
   ]
  },
  {
   "cell_type": "code",
   "execution_count": 56,
   "id": "889cabab",
   "metadata": {
    "execution": {
     "iopub.execute_input": "2024-02-18T02:41:47.126814Z",
     "iopub.status.busy": "2024-02-18T02:41:47.126361Z",
     "iopub.status.idle": "2024-02-18T02:41:47.143028Z",
     "shell.execute_reply": "2024-02-18T02:41:47.141578Z"
    },
    "papermill": {
     "duration": 0.123722,
     "end_time": "2024-02-18T02:41:47.145873",
     "exception": false,
     "start_time": "2024-02-18T02:41:47.022151",
     "status": "completed"
    },
    "tags": []
   },
   "outputs": [
    {
     "name": "stdout",
     "output_type": "stream",
     "text": [
      "              precision    recall  f1-score   support\n",
      "\n",
      "           0       0.47      0.48      0.48        89\n",
      "           1       0.57      0.55      0.56       110\n",
      "\n",
      "    accuracy                           0.52       199\n",
      "   macro avg       0.52      0.52      0.52       199\n",
      "weighted avg       0.52      0.52      0.52       199\n",
      "\n"
     ]
    }
   ],
   "source": [
    "print(classification_report(y_test_c, MLPC_predict))"
   ]
  },
  {
   "cell_type": "markdown",
   "id": "52d3101e",
   "metadata": {
    "papermill": {
     "duration": 0.100883,
     "end_time": "2024-02-18T02:41:47.349696",
     "exception": false,
     "start_time": "2024-02-18T02:41:47.248813",
     "status": "completed"
    },
    "tags": []
   },
   "source": [
    "## Linear Discriminant Analysis with Windows"
   ]
  },
  {
   "cell_type": "code",
   "execution_count": 57,
   "id": "d2545735",
   "metadata": {
    "execution": {
     "iopub.execute_input": "2024-02-18T02:41:47.555319Z",
     "iopub.status.busy": "2024-02-18T02:41:47.554716Z",
     "iopub.status.idle": "2024-02-18T02:41:47.757870Z",
     "shell.execute_reply": "2024-02-18T02:41:47.756352Z"
    },
    "papermill": {
     "duration": 0.311277,
     "end_time": "2024-02-18T02:41:47.761361",
     "exception": false,
     "start_time": "2024-02-18T02:41:47.450084",
     "status": "completed"
    },
    "tags": []
   },
   "outputs": [
    {
     "data": {
      "text/plain": [
       "((1976, 140), (1976,))"
      ]
     },
     "execution_count": 57,
     "metadata": {},
     "output_type": "execute_result"
    }
   ],
   "source": [
    "window_size = 14\n",
    "X_c = reshape_data(df.drop(['Label'], axis=1), window_size)\n",
    "y_c = np.array(df['Label'])[window_size - 1:]\n",
    "\n",
    "X_c.shape, y_c.shape"
   ]
  },
  {
   "cell_type": "code",
   "execution_count": 58,
   "id": "87ec6fb7",
   "metadata": {
    "execution": {
     "iopub.execute_input": "2024-02-18T02:41:47.978978Z",
     "iopub.status.busy": "2024-02-18T02:41:47.978516Z",
     "iopub.status.idle": "2024-02-18T02:41:47.986584Z",
     "shell.execute_reply": "2024-02-18T02:41:47.985570Z"
    },
    "papermill": {
     "duration": 0.113802,
     "end_time": "2024-02-18T02:41:47.988911",
     "exception": false,
     "start_time": "2024-02-18T02:41:47.875109",
     "status": "completed"
    },
    "tags": []
   },
   "outputs": [],
   "source": [
    "x_train_c, x_test_c, y_train_c, y_test_c = train_test_split(X_c, y_c, test_size=0.1, random_state=0)"
   ]
  },
  {
   "cell_type": "code",
   "execution_count": 59,
   "id": "8e13315a",
   "metadata": {
    "execution": {
     "iopub.execute_input": "2024-02-18T02:41:48.198457Z",
     "iopub.status.busy": "2024-02-18T02:41:48.197991Z",
     "iopub.status.idle": "2024-02-18T02:41:48.252023Z",
     "shell.execute_reply": "2024-02-18T02:41:48.250505Z"
    },
    "papermill": {
     "duration": 0.164923,
     "end_time": "2024-02-18T02:41:48.255796",
     "exception": false,
     "start_time": "2024-02-18T02:41:48.090873",
     "status": "completed"
    },
    "tags": []
   },
   "outputs": [],
   "source": [
    "LDAW_model = LinearDiscriminantAnalysis().fit(x_train_c, y_train_c)"
   ]
  },
  {
   "cell_type": "code",
   "execution_count": 60,
   "id": "c0ea10ba",
   "metadata": {
    "execution": {
     "iopub.execute_input": "2024-02-18T02:41:48.533087Z",
     "iopub.status.busy": "2024-02-18T02:41:48.532237Z",
     "iopub.status.idle": "2024-02-18T02:41:48.541757Z",
     "shell.execute_reply": "2024-02-18T02:41:48.539917Z"
    },
    "papermill": {
     "duration": 0.114343,
     "end_time": "2024-02-18T02:41:48.544925",
     "exception": false,
     "start_time": "2024-02-18T02:41:48.430582",
     "status": "completed"
    },
    "tags": []
   },
   "outputs": [],
   "source": [
    "LDAW_predict = LDAW_model.predict(x_test_c)"
   ]
  },
  {
   "cell_type": "code",
   "execution_count": 61,
   "id": "19b089d3",
   "metadata": {
    "execution": {
     "iopub.execute_input": "2024-02-18T02:41:48.882950Z",
     "iopub.status.busy": "2024-02-18T02:41:48.882490Z",
     "iopub.status.idle": "2024-02-18T02:41:49.147976Z",
     "shell.execute_reply": "2024-02-18T02:41:49.146887Z"
    },
    "papermill": {
     "duration": 0.372701,
     "end_time": "2024-02-18T02:41:49.150379",
     "exception": false,
     "start_time": "2024-02-18T02:41:48.777678",
     "status": "completed"
    },
    "tags": []
   },
   "outputs": [
    {
     "data": {
      "text/plain": [
       "<AxesSubplot:title={'center':'Linear Discriminant Analysis with Windows'}, xlabel='Predicted label', ylabel='True label'>"
      ]
     },
     "execution_count": 61,
     "metadata": {},
     "output_type": "execute_result"
    },
    {
     "data": {
      "image/png": "[encoded data removed]",
      "text/plain": [
       "<Figure size 432x288 with 2 Axes>"
      ]
     },
     "metadata": {
      "needs_background": "light"
     },
     "output_type": "display_data"
    }
   ],
   "source": [
    "plot_confusion_matrix(y_test_c, LDAW_predict, title=\"Linear Discriminant Analysis with Windows\")"
   ]
  },
  {
   "cell_type": "code",
   "execution_count": 62,
   "id": "309532e2",
   "metadata": {
    "execution": {
     "iopub.execute_input": "2024-02-18T02:41:49.357653Z",
     "iopub.status.busy": "2024-02-18T02:41:49.356707Z",
     "iopub.status.idle": "2024-02-18T02:41:49.370734Z",
     "shell.execute_reply": "2024-02-18T02:41:49.369140Z"
    },
    "papermill": {
     "duration": 0.120046,
     "end_time": "2024-02-18T02:41:49.373225",
     "exception": false,
     "start_time": "2024-02-18T02:41:49.253179",
     "status": "completed"
    },
    "tags": []
   },
   "outputs": [
    {
     "name": "stdout",
     "output_type": "stream",
     "text": [
      "              precision    recall  f1-score   support\n",
      "\n",
      "           0       0.88      0.88      0.88        92\n",
      "           1       0.90      0.90      0.90       106\n",
      "\n",
      "    accuracy                           0.89       198\n",
      "   macro avg       0.89      0.89      0.89       198\n",
      "weighted avg       0.89      0.89      0.89       198\n",
      "\n"
     ]
    }
   ],
   "source": [
    "print(classification_report(y_test_c, LDAW_predict))"
   ]
  },
  {
   "cell_type": "code",
   "execution_count": 64,
   "id": "16785f72",
   "metadata": {
    "execution": {
     "iopub.execute_input": "2024-02-18T02:41:49.579468Z",
     "iopub.status.busy": "2024-02-18T02:41:49.578393Z",
     "iopub.status.idle": "2024-02-18T02:41:49.584683Z",
     "shell.execute_reply": "2024-02-18T02:41:49.583843Z"
    },
    "papermill": {
     "duration": 0.110585,
     "end_time": "2024-02-18T02:41:49.586611",
     "exception": false,
     "start_time": "2024-02-18T02:41:49.476026",
     "status": "completed"
    },
    "tags": []
   },
   "outputs": [],
   "source": [
    "Pkl_Filename = \"SentiTrader.pkl\"  \n",
    "\n",
    "with open(Pkl_Filename, 'wb') as file:  \n",
    "    pickle.dump(LDAW_model, file)"
   ]
  },
  {
   "cell_type": "code",
   "execution_count": null,
   "id": "06f13965",
   "metadata": {},
   "outputs": [],
   "source": []
  }
 ],
 "metadata": {
  "kaggle": {
   "accelerator": "none",
   "dataSources": [
    {
     "datasetId": 129,
     "sourceId": 792900,
     "sourceType": "datasetVersion"
    }
   ],
   "dockerImageVersionId": 30646,
   "isGpuEnabled": false,
   "isInternetEnabled": true,
   "language": "python",
   "sourceType": "notebook"
  },
  "kernelspec": {
   "display_name": "Python 3",
   "language": "python",
   "name": "python3"
  },
  "language_info": {
   "codemirror_mode": {
    "name": "ipython",
    "version": 3
   },
   "file_extension": ".py",
   "mimetype": "text/x-python",
   "name": "python",
   "nbconvert_exporter": "python",
   "pygments_lexer": "ipython3",
   "version": "3.8.8"
  },
  "papermill": {
   "default_parameters": {},
   "duration": 223.139623,
   "end_time": "2024-02-18T02:41:52.213143",
   "environment_variables": {},
   "exception": null,
   "input_path": "__notebook__.ipynb",
   "output_path": "__notebook__.ipynb",
   "parameters": {},
   "start_time": "2024-02-18T02:38:09.073520",
   "version": "2.5.0"
  }
 },
 "nbformat": 4,
 "nbformat_minor": 5
}
